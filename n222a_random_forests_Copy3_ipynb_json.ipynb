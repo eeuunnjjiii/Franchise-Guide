{
  "nbformat": 4,
  "nbformat_minor": 0,
  "metadata": {
    "colab": {
      "name": "n222a_random_forests-Copy3.ipynb.json",
      "provenance": [],
      "include_colab_link": true
    },
    "kernelspec": {
      "display_name": "Python 3",
      "language": "python",
      "name": "python3"
    },
    "language_info": {
      "codemirror_mode": {
        "name": "ipython",
        "version": 3
      },
      "file_extension": ".py",
      "mimetype": "text/x-python",
      "name": "python",
      "nbconvert_exporter": "python",
      "pygments_lexer": "ipython3",
      "version": "3.8.3"
    }
  },
  "cells": [
    {
      "cell_type": "markdown",
      "metadata": {
        "id": "view-in-github",
        "colab_type": "text"
      },
      "source": [
        "<a href=\"https://colab.research.google.com/github/eeuunnjjiii/Project/blob/main/n222a_random_forests_Copy3_ipynb_json.ipynb\" target=\"_parent\"><img src=\"https://colab.research.google.com/assets/colab-badge.svg\" alt=\"Open In Colab\"/></a>"
      ]
    },
    {
      "cell_type": "markdown",
      "metadata": {
        "id": "mHOknZcflUAj"
      },
      "source": [
        "<img align=\"right\" src=\"https://ds-cs-images.s3.ap-northeast-2.amazonaws.com/Codestates_Fulllogo_Color.png\" width=100>\n",
        "\n",
        "## *DATA SCIENCE / SECTION 2 / SPRINT 2 / NOTE 2*\n",
        "\n",
        "# 📝 Assignment\n",
        "---"
      ]
    },
    {
      "cell_type": "markdown",
      "metadata": {
        "id": "7IXUfiQ2UKj6"
      },
      "source": [
        "# 랜덤포레스트(Random Forests)\n",
        "\n",
        "### 1) 캐글 대회를 이어서 진행합니다. EDA, 데이터 전처리 부분을 업데이트 하세요.\n",
        "- EDA는 항상 완벽할 수 없지요 한 주간 계속 같은 데이터로 과제를 진행하므로 부족한 부분을 추가하거나 논하세요.\n",
        "- (지금은 feature engineering에 너무 시간을 들이지 마세요!)\n",
        "- Ordinal Encoding을 적용해 보세요.\n",
        "- **(객관식) 다음 특성들 중에 순서를 고려한 Ordinal Encoding이 필요해 보이는 특성을 선택하고 과제 제출폼에 제출하세요.**\n",
        "    1. opinion_h1n1_vacc_effective\n",
        "    2. state\n",
        "    3. marital\n",
        "    4. employment_occupation\n"
      ]
    },
    {
      "cell_type": "markdown",
      "metadata": {
        "id": "PaXaVohDyLRv"
      },
      "source": [
        "Data fields\n",
        "\n",
        "[targets]\n",
        "vacc_h1n1_f - Whether respondent received H1N1 flu vaccine. (This is the target you need to predict for the competition)\n",
        "vacc_seas_f - Whether respondent received seasonal flu vaccine.\n",
        "\n",
        "[features]\n",
        "For all binary variables: 0 = No; 1 = Yes. \n",
        "* h1n1_concern - Level of concern about the H1N1 flu.\n",
        "* 0 = Not at all concerned; 1 = Not very concerned; 2 = Somewhat concerned; 3 = Very concerned. \n",
        "* h1n1_knowledge - Level of knowledge about H1N1 flu.\n",
        "* 0 = No knowledge; 1 = A little knowledge; 2 = A lot of knowledge.\n",
        "\n",
        "behavioral_antiviral_meds - Has taken antiviral medications. (binary)\n",
        "behavioral_avoidance - Has avoided close contact with others with flu-like symptoms. (binary)\n",
        "behavioral_face_mask - Has bought a face mask. (binary)\n",
        "behavioral_wash_hands - Has frequently washed hands or used hand sanitizer. (binary)\n",
        "behavioral_large_gatherings - Has reduced time at large gatherings. (binary)\n",
        "behavioral_outside_home - Has reduced contact with people outside of own household. (binary)\n",
        "behavioral_touch_face - Has avoided touching eyes, nose, or mouth. (binary)\n",
        "\n",
        "doctor_recc_h1n1 - H1N1 flu vaccine was recommended by doctor. (binary)\n",
        "doctor_recc_seasonal - Seasonal flu vaccine was recommended by doctor. (binary)\n",
        "chronic_med_condition - Has any of the following chronic medical conditions: asthma or an other lung condition, diabetes, a heart condition, a kidney condition, sickle cell anemia or other anemia, a neurological or neuromuscular condition, a liver condition, or a weakened immune system caused by a chronic illness or by medicines taken for a chronic illness. (binary)\n",
        "\n",
        "child_under_6_months - Has regular close contact with a child under the age of six months. (binary)\n",
        "\n",
        "health_insurance - Has health insurance. (binary)\n",
        "health_worker - Is a healthcare worker. (binary)\n",
        "\n",
        "opinion_h1n1_vacc_effective - Respondent's opinion about H1N1 vaccine effectiveness. \n",
        "* Not at all effective; Not very effective; Don't know; Somewhat effective; Very effective\n",
        "\n",
        "opinion_h1n1_risk - Respondent's opinion about risk of getting sick with H1N1 flu without vaccine. \n",
        "* Very Low; Somewhat low; Don't know; Somewhat high; Very high\n",
        "opinion_h1n1_sick_from_vacc - Respondent's worry of getting sick from taking H1N1 vaccine. \n",
        "* Not at all worried; Not very worried; Don't know; Somewhat worried; Very worried\n",
        "opinion_seas_vacc_effective - Respondent's opinion about seasonal flu vaccine effectiveness. \n",
        "* Not at all effective; Not very effective; Don't know; Somewhat effective; Very effective\n",
        "opinion_seas_risk - Respondent's opinion about risk of getting sick with seasonal flu without vaccine. \n",
        "* Very Low; Somewhat low; Don't know; Somewhat high; Very high\n",
        "opinion_seas_sick_from_vacc - Respondent's worry of getting sick from taking seasonal flu vaccine. \n",
        "* Not at all worried; Not very worried; Don't know; Somewhat worried; Very worried\n",
        "\n",
        "agegrp - Age group of respondent. \n",
        "* 6 Months - 9 Years; 10 - 17 Years; 18 - 34 Years; 35 - 44 Years; 45 - 54 Years; 55 - 64 Years; 65+ Years\n",
        "education_comp - Self-reported education level.\n",
        "* 1 = < 12 Years; 2 = 12 Years; 3 = Some College; 4 = College Graduate\n",
        "raceeth4_i - Race of respondent.\n",
        "* 1 = Hispanic; 2 = Non-Hispanic, Black Only; 3 = Non-Hispanic, White Only; 4 = Non-Hispanic, Other or Multiple Races\n",
        "sex_i - Sex of respondent.\n",
        "* 1 = Male; 2 = Female 2\n",
        "inc_pov - Household annual income of respondent with respect to 2008 Census poverty thresholds.\n",
        "* 1 = > $75,000; 2 = <= $75,000; 3 = Below Poverty; 4 = Unknown\n",
        "marital - Marital status of respondent.\n",
        "* 1 = Married; 2 = Not Married\n",
        "rent_own_r - Housing situation of respondent.\n",
        "* 1 = Home is Owned; 2 = Home is Rented or Other Arrangement\n",
        "\n",
        "employment_status - Employment status of respondent.\n",
        "* Employed; Not in Labor Force; Unemployed\n",
        "census_region - True census region of residence \n",
        "* 1=northeast; 2=midwest; 3=south; 4=west\n",
        "census_msa - Respondent's residence within metropolitan statistical areas (MSA) as defined by the U.S. Census.\n",
        "\n",
        "n_adult_r - Number of other adults in household.\n",
        "household_children - Number of children in household.\n",
        "n_people_r - Number of adults in the household.\n",
        "\n",
        "employment_industry - Type of industry respondent is employed in.\n",
        "employment_occupation - Type of occupation of respondent. Values are represented as short random character strings.\n",
        "hhs_region - HHS surveillance region number\n",
        "Region 1: CT,ME,MA,NH,RI,VT\n",
        "Region 2: NJ,NY\n",
        "Region 3: DE,DC,MD,PA,VA,WV\n",
        "Region 4: AL,FL,GA,KY,MS,NC,SC,TN\n",
        "Region 5: IL,IN,MI,MN,OH,WI\n",
        "Region 6: AR,LA,NM,OK,TX\n",
        "Region 7: IA,KS,MO,NE\n",
        "Region 8: CO,MT,ND,SD,UT,WY\n",
        "Region 9: AZ,CA,HI,NV\n",
        "Region 10: AK,ID,OR,WA\n",
        "state - State of residence"
      ]
    },
    {
      "cell_type": "code",
      "metadata": {
        "id": "0Nab5fWAlUAz"
      },
      "source": [
        "import pandas as pd\n",
        "target = 'vacc_h1n1_f'\n",
        "# target = 'vacc_seas_f'\n",
        "train = pd.merge(pd.read_csv('https://ds-lecture-data.s3.ap-northeast-2.amazonaws.com/vacc_flu/train.csv'), \n",
        "                 pd.read_csv('https://ds-lecture-data.s3.ap-northeast-2.amazonaws.com/vacc_flu/train_labels.csv')[target], left_index=True, right_index=True)\n",
        "test = pd.read_csv('https://ds-lecture-data.s3.ap-northeast-2.amazonaws.com/vacc_flu/test.csv')\n",
        "sample_submission = pd.read_csv('https://ds-lecture-data.s3.ap-northeast-2.amazonaws.com/vacc_flu/submission.csv')"
      ],
      "execution_count": 1,
      "outputs": []
    },
    {
      "cell_type": "code",
      "metadata": {
        "id": "TBncizYJyLRx"
      },
      "source": [
        "#결측치 처리 (numerical cols=mean, categorical cols=mode)\n",
        "nu_cols=train[[ 'n_people_r', 'hhs_region',]]\n",
        "ca_cols=train.drop(columns=nu_cols).columns\n",
        "\n",
        "def missing_value(df):\n",
        "    for i in nu_cols:\n",
        "        df[i]=df[i].fillna(train[i].mean())\n",
        "    for i in ca_cols:\n",
        "        df[i]=df[i].fillna(df[i].mode()[0])\n",
        "    return df\n",
        "\n",
        "train=missing_value(train)"
      ],
      "execution_count": 2,
      "outputs": []
    },
    {
      "cell_type": "code",
      "metadata": {
        "colab": {
          "base_uri": "https://localhost:8080/"
        },
        "id": "nSiGImpqyLRx",
        "outputId": "b8f6c290-3568-45f2-c621-5a8ac017dc98"
      },
      "source": [
        "#train,val 데이터 나누기\n",
        "from sklearn.model_selection import train_test_split\n",
        "train,val = train_test_split(train,train_size=0.8,test_size=0.2)\n",
        "\n",
        "train.shape, val.shape, test.shape"
      ],
      "execution_count": 3,
      "outputs": [
        {
          "output_type": "execute_result",
          "data": {
            "text/plain": [
              "((33723, 39), (8431, 39), (28104, 38))"
            ]
          },
          "metadata": {
            "tags": []
          },
          "execution_count": 3
        }
      ]
    },
    {
      "cell_type": "code",
      "metadata": {
        "id": "H0qoEihPyLRz"
      },
      "source": [
        "def engineer(df):\n",
        "    \n",
        "#cardinarity가 높은 state 제외\n",
        "  #df=df.drop('state',axis=1)\n",
        "    \n",
        "#n_people_r = n_adult_r+household+_children이므로 n_people_r만 남기기\n",
        "  df = df.drop('n_adult_r', axis = 1)\n",
        "  df = df.drop('household_children', axis = 1)\n",
        "\n",
        "#behaviorals 특성 추가\n",
        "  behaviorals=[col for col in df.columns if 'behavior' in col]\n",
        "  df['total_bhv']=df[behaviorals].sum(axis=1)\n",
        "        \n",
        "  return df\n",
        "\n",
        "train = engineer(train)\n",
        "val=engineer(val)\n",
        "test = engineer(test)"
      ],
      "execution_count": 4,
      "outputs": []
    },
    {
      "cell_type": "code",
      "metadata": {
        "id": "-CPF5M7ByLRz"
      },
      "source": [
        "#특성/타겟 분리\n",
        "\n",
        "features=train.drop(target,axis=1).columns\n",
        "\n",
        "X_train = train[features]\n",
        "y_train = train[target]\n",
        "X_val = val[features]\n",
        "y_val = val[target]\n",
        "X_test = test[features]"
      ],
      "execution_count": 5,
      "outputs": []
    },
    {
      "cell_type": "markdown",
      "metadata": {
        "id": "BQs6Ym9UlUA0"
      },
      "source": [
        "### 2) 랜덤포레스트 모델을 적용한 후의 결과를 캐글에 제출하세요.\n",
        "- 랜덤포레스트를 적용하고 성능이 오히려 떨어졌을 수도 있습니다! 만약 그렇다면 이유를 본인 논리로 분석해 보세요.\n",
        "- **캐글 Leaderboard의 본인 Score를 과제 제출폼에 제출하세요.**"
      ]
    },
    {
      "cell_type": "code",
      "metadata": {
        "colab": {
          "base_uri": "https://localhost:8080/"
        },
        "id": "SyyIH5TZyT2U",
        "outputId": "b04f06ab-2736-4307-932e-9071ed0cc015"
      },
      "source": [
        "!pip install category_encoders"
      ],
      "execution_count": 7,
      "outputs": [
        {
          "output_type": "stream",
          "text": [
            "Collecting category_encoders\n",
            "\u001b[?25l  Downloading https://files.pythonhosted.org/packages/44/57/fcef41c248701ee62e8325026b90c432adea35555cbc870aff9cfba23727/category_encoders-2.2.2-py2.py3-none-any.whl (80kB)\n",
            "\r\u001b[K     |████                            | 10kB 15.1MB/s eta 0:00:01\r\u001b[K     |████████▏                       | 20kB 12.5MB/s eta 0:00:01\r\u001b[K     |████████████▏                   | 30kB 8.4MB/s eta 0:00:01\r\u001b[K     |████████████████▎               | 40kB 7.8MB/s eta 0:00:01\r\u001b[K     |████████████████████▎           | 51kB 4.1MB/s eta 0:00:01\r\u001b[K     |████████████████████████▍       | 61kB 4.8MB/s eta 0:00:01\r\u001b[K     |████████████████████████████▍   | 71kB 5.1MB/s eta 0:00:01\r\u001b[K     |████████████████████████████████| 81kB 3.2MB/s \n",
            "\u001b[?25hRequirement already satisfied: patsy>=0.5.1 in /usr/local/lib/python3.7/dist-packages (from category_encoders) (0.5.1)\n",
            "Requirement already satisfied: pandas>=0.21.1 in /usr/local/lib/python3.7/dist-packages (from category_encoders) (1.1.5)\n",
            "Requirement already satisfied: scipy>=1.0.0 in /usr/local/lib/python3.7/dist-packages (from category_encoders) (1.4.1)\n",
            "Requirement already satisfied: statsmodels>=0.9.0 in /usr/local/lib/python3.7/dist-packages (from category_encoders) (0.10.2)\n",
            "Requirement already satisfied: scikit-learn>=0.20.0 in /usr/local/lib/python3.7/dist-packages (from category_encoders) (0.22.2.post1)\n",
            "Requirement already satisfied: numpy>=1.14.0 in /usr/local/lib/python3.7/dist-packages (from category_encoders) (1.19.5)\n",
            "Requirement already satisfied: six in /usr/local/lib/python3.7/dist-packages (from patsy>=0.5.1->category_encoders) (1.15.0)\n",
            "Requirement already satisfied: pytz>=2017.2 in /usr/local/lib/python3.7/dist-packages (from pandas>=0.21.1->category_encoders) (2018.9)\n",
            "Requirement already satisfied: python-dateutil>=2.7.3 in /usr/local/lib/python3.7/dist-packages (from pandas>=0.21.1->category_encoders) (2.8.1)\n",
            "Requirement already satisfied: joblib>=0.11 in /usr/local/lib/python3.7/dist-packages (from scikit-learn>=0.20.0->category_encoders) (1.0.1)\n",
            "Installing collected packages: category-encoders\n",
            "Successfully installed category-encoders-2.2.2\n"
          ],
          "name": "stdout"
        }
      ]
    },
    {
      "cell_type": "code",
      "metadata": {
        "id": "ol3HiVAKlUA0",
        "colab": {
          "base_uri": "https://localhost:8080/"
        },
        "outputId": "60dd93df-cf62-4b4c-c897-c7d04eed9bd9"
      },
      "source": [
        "%%time\n",
        "from category_encoders import OneHotEncoder\n",
        "from sklearn.ensemble import RandomForestClassifier\n",
        "from sklearn.impute import SimpleImputer\n",
        "from sklearn.pipeline import make_pipeline\n",
        "from category_encoders import OrdinalEncoder\n",
        "from sklearn.metrics import f1_score\n",
        "\n",
        "#OneHotEncoder 사용\n",
        "pipe_onehot=make_pipeline(OneHotEncoder(use_cat_names=True),\n",
        "                   SimpleImputer(),\n",
        "                   RandomForestClassifier(oob_score=True))\n",
        "\n",
        "pipe_onehot.fit(X_train,y_train)\n",
        "print('훈련 정확도 :', pipe_onehot.score(X_train,y_train))\n",
        "print('OOB 정확도 :',pipe_onehot.named_steps['randomforestclassifier'].oob_score_)\n",
        "print('검증 정확도 :', pipe_onehot.score(X_val,y_val))\n",
        "\n",
        "y_train_pred=pipe_onehot.predict(X_train)\n",
        "y_val_pred=pipe_onehot.predict(X_val)\n",
        "\n",
        "print('훈련 f1 score', f1_score(y_train,y_train_pred))\n",
        "print('검증 f1 score', f1_score(y_val,y_val_pred))"
      ],
      "execution_count": 8,
      "outputs": [
        {
          "output_type": "stream",
          "text": [
            "/usr/local/lib/python3.7/dist-packages/statsmodels/tools/_testing.py:19: FutureWarning: pandas.util.testing is deprecated. Use the functions in the public API at pandas.testing instead.\n",
            "  import pandas.util.testing as tm\n",
            "/usr/local/lib/python3.7/dist-packages/category_encoders/utils.py:21: FutureWarning: is_categorical is deprecated and will be removed in a future version.  Use is_categorical_dtype instead\n",
            "  elif pd.api.types.is_categorical(cols):\n"
          ],
          "name": "stderr"
        },
        {
          "output_type": "stream",
          "text": [
            "훈련 정확도 : 0.9941582895946387\n",
            "OOB 정확도 : 0.8036058476410758\n"
          ],
          "name": "stdout"
        },
        {
          "output_type": "stream",
          "text": [
            "/usr/local/lib/python3.7/dist-packages/category_encoders/utils.py:21: FutureWarning: is_categorical is deprecated and will be removed in a future version.  Use is_categorical_dtype instead\n",
            "  elif pd.api.types.is_categorical(cols):\n"
          ],
          "name": "stderr"
        },
        {
          "output_type": "stream",
          "text": [
            "검증 정확도 : 0.8076147550705729\n",
            "훈련 f1 score 0.987752564501088\n",
            "검증 f1 score 0.4863837872070931\n",
            "CPU times: user 28.6 s, sys: 506 ms, total: 29.1 s\n",
            "Wall time: 29.4 s\n"
          ],
          "name": "stdout"
        }
      ]
    },
    {
      "cell_type": "code",
      "metadata": {
        "colab": {
          "base_uri": "https://localhost:8080/"
        },
        "id": "dtkkcnTzyLR0",
        "outputId": "1f4cfd3d-54b5-401e-c0b1-38de699664ba"
      },
      "source": [
        "%%time\n",
        "\n",
        "#OrdinalEncoder 사용\n",
        "pipe_or=make_pipeline(OrdinalEncoder(),\n",
        "                     SimpleImputer(),\n",
        "                     RandomForestClassifier(oob_score=True))\n",
        "\n",
        "pipe_or.fit(X_train,y_train)\n",
        "print('훈련 정확도 :', pipe_or.score(X_train,y_train))\n",
        "print('OOB 정확도 :',pipe_or.named_steps['randomforestclassifier'].oob_score_)\n",
        "print('검증 정확도 :', pipe_or.score(X_val,y_val))\n",
        "\n",
        "y_train_pred=pipe_or.predict(X_train)\n",
        "y_val_pred=pipe_or.predict(X_val)\n",
        "\n",
        "print('훈련 f1 score', f1_score(y_train,y_train_pred))\n",
        "print('검증 f1 score', f1_score(y_val,y_val_pred))"
      ],
      "execution_count": 9,
      "outputs": [
        {
          "output_type": "stream",
          "text": [
            "훈련 정확도 : 0.9941879429469501\n",
            "OOB 정확도 : 0.8043768348011743\n",
            "검증 정확도 : 0.8082078045308979\n",
            "훈련 f1 score 0.9878170064644456\n",
            "검증 f1 score 0.5044437634079068\n",
            "CPU times: user 9.17 s, sys: 85.3 ms, total: 9.25 s\n",
            "Wall time: 9.28 s\n"
          ],
          "name": "stdout"
        }
      ]
    },
    {
      "cell_type": "code",
      "metadata": {
        "colab": {
          "base_uri": "https://localhost:8080/"
        },
        "id": "6kNFTqbIyLR1",
        "outputId": "4c90d7d5-b2d9-4953-dac5-09b493c8ec24"
      },
      "source": [
        "#특성 수 비교\n",
        "print('shape before: ', X_train.shape)\n",
        "\n",
        "#OneHotEncoder\n",
        "onehot=pipe_onehot.named_steps['onehotencoder']\n",
        "onehot_e=onehot.transform(X_train)\n",
        "print('OneHot shape :',onehot_e.shape)\n",
        "\n",
        "#OrdinalEncoder\n",
        "ordinal=pipe_or.named_steps['ordinalencoder']\n",
        "ordinal_e=ordinal.transform(X_train)\n",
        "print('Ordinal shape :', ordinal_e.shape)"
      ],
      "execution_count": 10,
      "outputs": [
        {
          "output_type": "stream",
          "text": [
            "shape before:  (33723, 37)\n",
            "OneHot shape : (33723, 173)\n",
            "Ordinal shape : (33723, 37)\n"
          ],
          "name": "stdout"
        }
      ]
    },
    {
      "cell_type": "code",
      "metadata": {
        "colab": {
          "base_uri": "https://localhost:8080/",
          "height": 380
        },
        "id": "ch6K4jA3yLR1",
        "outputId": "9614ef26-ddcf-45e4-ff76-2e3e509ec08a"
      },
      "source": [
        "#특성 중요도 비교\n",
        "\n",
        "import matplotlib.pyplot as plt\n",
        "\n",
        "#OneHot\n",
        "rf=pipe_onehot.named_steps['randomforestclassifier']\n",
        "colnames=onehot.get_feature_names()\n",
        "colvis=pd.Series(rf.feature_importances_, colnames)\n",
        "\n",
        "#top 10 시각화\n",
        "n=10\n",
        "plt.figure(figsize=(10,n/4))\n",
        "plt.title(f'Top {n} feautres with onehotencoder')\n",
        "colvis.sort_values()[-n:].plot.barh();\n",
        "\n",
        "#Ordinal\n",
        "rf_ord=pipe_or.named_steps['randomforestclassifier']\n",
        "colvis_or=pd.Series(rf_ord.feature_importances_,X_train.columns)\n",
        "\n",
        "#top 10 시각화\n",
        "plt.figure(figsize=(10,n/4))\n",
        "plt.title(f'Top {n} feautres with ordinalencoder')\n",
        "colvis_or.sort_values()[-n:].plot.barh();"
      ],
      "execution_count": 11,
      "outputs": [
        {
          "output_type": "display_data",
          "data": {
            "image/png": "[encoded data removed]",
            "text/plain": [
              "<Figure size 720x180 with 1 Axes>"
            ]
          },
          "metadata": {
            "tags": [],
            "needs_background": "light"
          }
        },
        {
          "output_type": "display_data",
          "data": {
            "image/png": "[encoded data removed]",
            "text/plain": [
              "<Figure size 720x180 with 1 Axes>"
            ]
          },
          "metadata": {
            "tags": [],
            "needs_background": "light"
          }
        }
      ]
    },
    {
      "cell_type": "code",
      "metadata": {
        "scrolled": false,
        "colab": {
          "base_uri": "https://localhost:8080/"
        },
        "id": "b6_fw_4RyLR2",
        "outputId": "2f3807d7-11af-415b-ee4d-39f0f3f4eaeb"
      },
      "source": [
        "for i in range(5,10):\n",
        "    print('max_depth=',i)\n",
        "    pipe_or=make_pipeline(OrdinalEncoder(),\n",
        "                       SimpleImputer(),\n",
        "                       RandomForestClassifier(max_depth=i,oob_score=True))\n",
        "    pipe_or.fit(X_train,y_train)\n",
        "\n",
        "    y_train_pred=pipe_or.predict(X_train)\n",
        "    y_val_pred=pipe_or.predict(X_val)\n",
        "    \n",
        "    print('훈련 정확도', pipe_or.score(X_train, y_train))\n",
        "    print('검증 정확도', pipe_or.score(X_val, y_val))\n",
        "    \n",
        "    print('훈련 f1 score', f1_score(y_train,y_train_pred))\n",
        "    print('검증 f1 score', f1_score(y_val,y_val_pred),'\\n')\n"
      ],
      "execution_count": 14,
      "outputs": [
        {
          "output_type": "stream",
          "text": [
            "max_depth= 5\n",
            "훈련 정확도 0.8014411529223379\n",
            "검증 정확도 0.799074842841893\n",
            "훈련 f1 score 0.4296422487223168\n",
            "검증 f1 score 0.41786941580756015 \n",
            "\n",
            "max_depth= 6\n",
            "훈련 정확도 0.8050292085520268\n",
            "검증 정확도 0.801209820899063\n",
            "훈련 f1 score 0.46488158216000647\n",
            "검증 f1 score 0.4435590969455511 \n",
            "\n",
            "max_depth= 7\n",
            "훈련 정확도 0.8141624410639623\n",
            "검증 정확도 0.8098683430198078\n",
            "훈련 f1 score 0.5137714330048879\n",
            "검증 f1 score 0.4941621962764279 \n",
            "\n",
            "max_depth= 8\n",
            "훈련 정확도 0.8218426593126353\n",
            "검증 정확도 0.8117661012928479\n",
            "훈련 f1 score 0.5410937977390774\n",
            "검증 f1 score 0.5054534122779683 \n",
            "\n",
            "max_depth= 9\n",
            "훈련 정확도 0.8301455979598493\n",
            "검증 정확도 0.8137824694579527\n",
            "훈련 f1 score 0.5702280912364945\n",
            "검증 f1 score 0.5178132678132678 \n",
            "\n"
          ],
          "name": "stdout"
        }
      ]
    },
    {
      "cell_type": "code",
      "metadata": {
        "colab": {
          "base_uri": "https://localhost:8080/"
        },
        "id": "-IecsD8SyLR2",
        "outputId": "320cfa4e-ec52-4cf6-84f2-29dfce9f517e"
      },
      "source": [
        "#변수조절\n",
        "pipe_or=make_pipeline(OrdinalEncoder(),\n",
        "                       SimpleImputer(),\n",
        "                       RandomForestClassifier(max_depth=7,oob_score=True))\n",
        "pipe_or.fit(X_train,y_train)\n",
        "\n",
        "y_train_pred=pipe_or.predict(X_train)\n",
        "y_val_pred=pipe_or.predict(X_val)\n",
        "\n",
        "print('훈련 f1 score', f1_score(y_train,y_train_pred))\n",
        "print('검증 f1 score', f1_score(y_val,y_val_pred))\n"
      ],
      "execution_count": 15,
      "outputs": [
        {
          "output_type": "stream",
          "text": [
            "훈련 f1 score 0.5208221076129628\n",
            "검증 f1 score 0.5037313432835822\n"
          ],
          "name": "stdout"
        }
      ]
    },
    {
      "cell_type": "code",
      "metadata": {
        "id": "lo6zbY3azJW8"
      },
      "source": [
        "y_test_pred=pipe_or.predict(X_test)\n",
        "sample_submission['vacc_h1n1_f']=y_test_pred\n",
        "sample_submission.to_csv('submission.csv',index=False)"
      ],
      "execution_count": 16,
      "outputs": []
    },
    {
      "cell_type": "markdown",
      "metadata": {
        "id": "1MyUqd94lUA1"
      },
      "source": [
        "## 🔥 도전과제"
      ]
    },
    {
      "cell_type": "markdown",
      "metadata": {
        "id": "LUpxV5YXlUA1"
      },
      "source": [
        "### 3) 수업에 사용하지 않은 다른 종류의 [category_encoders](http://contrib.scikit-learn.org/category_encoders/)을 적용해 보고 인코더에 대해 설명하세요\n"
      ]
    },
    {
      "cell_type": "code",
      "metadata": {
        "id": "jgYgSXj2lUA1"
      },
      "source": [
        "### 이곳에서 과제를 진행해 주세요 ###"
      ],
      "execution_count": null,
      "outputs": []
    },
    {
      "cell_type": "markdown",
      "metadata": {
        "id": "KNfFAwntlUA2"
      },
      "source": [
        "## 참고자료\n",
        "\n",
        "- [Random Forests for Complete Beginners](https://victorzhou.com/blog/intro-to-random-forests/)"
      ]
    }
  ]
}