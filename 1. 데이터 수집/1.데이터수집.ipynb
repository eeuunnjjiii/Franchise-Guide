{
 "cells": [
  {
   "cell_type": "markdown",
   "metadata": {},
   "source": [
    "# 정보공개서 데이터 수집\n",
    "- 출처 : 공정거래위원회 가맹사업거래 홈페이지 (https://franchise.ftc.go.kr/mnu/00014/program/firHope/view.do)\n",
    "- '가맹희망플러스' 탭에서 업종 '외식' 데이터 전부 수집 (2016년-2020년)"
   ]
  },
  {
   "cell_type": "code",
   "execution_count": 21,
   "metadata": {},
   "outputs": [],
   "source": [
    "def get_data(등록년도, 비교항목1, 비교항목2):\n",
    "    \"\"\"\n",
    "    등록년도별 비교항목 수집 함수\n",
    "    \n",
    "    등록년도 : 2015-2020\n",
    "    비교항목1 : 해당 페이지 첫번째 드롭다운(업종별, 가맹본부별, 브랜드별)\n",
    "    비교항목2 : 해당 페이지 두번째 드롭다운\n",
    "\n",
    "    \"\"\"\n",
    "    \n",
    "    from selenium import webdriver\n",
    "    from selenium.webdriver.common.keys import Keys\n",
    "    from selenium.webdriver.support.ui import Select\n",
    "    from bs4 import BeautifulSoup\n",
    "    import time\n",
    "    import pandas as pd\n",
    "\n",
    "    chromedriver = '/usr/local/bin/chromedriver/chromedriver'\n",
    "    driver = webdriver.Chrome(chromedriver)\n",
    "\n",
    "    #크롤링 사이트 호출\n",
    "    url = 'https://franchise.ftc.go.kr/mnu/00014/program/firHope/view.do'\n",
    "    driver.get(url)\n",
    "    \n",
    "    # 드롭다운 선택\n",
    "    button0= Select(driver.find_element_by_css_selector('#selYear'))\n",
    "    button0.select_by_visible_text(등록년도)\n",
    "    button1= Select(driver.find_element_by_css_selector('#searchCondition'))\n",
    "    button1.select_by_visible_text(비교항목1)\n",
    "    button2 = Select(driver.find_element_by_css_selector('#selListType'))\n",
    "    button2.select_by_visible_text(비교항목2)\n",
    "    button3 = Select(driver.find_element_by_css_selector('#selUpjong'))\n",
    "    button3.select_by_visible_text('외식')\n",
    "    time.sleep(1)\n",
    "    \n",
    "    # 빈 데이터프레임 만들기\n",
    "    new_df = pd.DataFrame()\n",
    "    \n",
    "    # 업종별 데이터프레임 만들기\n",
    "    category = ['A1','B1','C1','D1','E1','F1','G1','H1','I1','J1','K1','L1','M1','N1','O1']\n",
    "    for i in category :\n",
    "        button4 = Select(driver.find_element_by_css_selector('#selIndus'))\n",
    "        button4.select_by_value(i)\n",
    "        \n",
    "        # 검색 버튼\n",
    "        search_button = driver.find_element_by_css_selector('#frm > div:nth-child(6) > input[type=image]:nth-child(3)')\n",
    "\n",
    "        # 키보드/마우스 동작 자동화 > 검색 버튼 클릭\n",
    "        webdriver.ActionChains(driver).click(search_button).perform()\n",
    "        time.sleep(2)\n",
    "        \n",
    "        # table 형태 html 그대로 저장\n",
    "        result_html = driver.page_source\n",
    "        result_soup = BeautifulSoup(result_html, 'html.parser')\n",
    "        tags = result_soup.find(attrs={\"class\":\"box_plus kft_box\"})\n",
    "        \n",
    "        ##!pip install html_table_parser\n",
    "        from html_table_parser import parser_functions as parser\n",
    "        html_table = parser.make2d(tags)\n",
    "\n",
    "        df=pd.DataFrame(html_table[1:], columns=html_table[0])\n",
    "        df['업종'] = i ## 업종 추가\n",
    "\n",
    "        new_df = new_df.append(df) ## 업종별 데이터 합치기\n",
    "        \n",
    "    driver.quit()    \n",
    "    return new_df"
   ]
  },
  {
   "cell_type": "code",
   "execution_count": 25,
   "metadata": {},
   "outputs": [],
   "source": [
    "def get_df(비교항목1, 비교항목2):\n",
    "    \"\"\"\n",
    "    필요한 연도별(2016-2020) 비교항목 데이터프레임 만드는 함수\n",
    "    비교항목1 : 해당 페이지 첫번째 드롭다운(업종별, 가맹본부별, 브랜드별)\n",
    "    비교항목2 : 해당 페이지 두번째 드롭다운\n",
    "\n",
    "    \"\"\"   \n",
    "    import pandas as pd\n",
    "    new_df = pd.DataFrame()\n",
    "    years = ['2020', '2019', '2018', '2017', '2016']\n",
    "    for year in years:\n",
    "        df = get_data(year, 비교항목1, 비교항목2)\n",
    "        df['기준년도'] = year\n",
    "        new_df = pd.concat([new_df, df])\n",
    "    return new_df"
   ]
  },
  {
   "cell_type": "code",
   "execution_count": 40,
   "metadata": {},
   "outputs": [],
   "source": [
    "import pandas as pd\n",
    "\n",
    "# 데이터 수집 시작\n",
    "## 가맹본부별 > 성장성, 안정성, 수익성\n",
    "growth = get_df('가맹본부별', '성장성')\n",
    "stability = get_df('가맹본부별', '안정성')\n",
    "profit = get_df('가맹본부별', '수익성')\n",
    "\n",
    "## 브랜드별 > 브랜드 개요, 가맹정 현황 정보, 가맹점 창업비용\n",
    "overview = get_df('브랜드별', '브랜드 개요')\n",
    "info = get_df('브랜드별', '가맹점 현황 정보')\n",
    "cost = get_df('브랜드별', '가맹점 창업비용')"
   ]
  },
  {
   "cell_type": "code",
   "execution_count": 41,
   "metadata": {},
   "outputs": [
    {
     "data": {
      "text/plain": [
       "((11109, 9), (11109, 9), (11109, 10), (20585, 8), (20426, 11), (20915, 12))"
      ]
     },
     "execution_count": 41,
     "metadata": {},
     "output_type": "execute_result"
    }
   ],
   "source": [
    "# 확인\n",
    "growth.shape, stability.shape, profit.shape, overview.shape, info.shape, cost.shape"
   ]
  },
  {
   "cell_type": "code",
   "execution_count": 44,
   "metadata": {},
   "outputs": [],
   "source": [
    "# csv 파일로 변환\n",
    "growth.to_csv('growth.csv')\n",
    "stability.to_csv('stability.csv')\n",
    "profit.to_csv('profit.csv')\n",
    "overview.to_csv('overview.csv')\n",
    "info.to_csv('info.csv')\n",
    "cost.to_csv('cost.csv')"
   ]
  }
 ],
 "metadata": {
  "kernelspec": {
   "display_name": "Python 3",
   "language": "python",
   "name": "python3"
  },
  "language_info": {
   "codemirror_mode": {
    "name": "ipython",
    "version": 3
   },
   "file_extension": ".py",
   "mimetype": "text/x-python",
   "name": "python",
   "nbconvert_exporter": "python",
   "pygments_lexer": "ipython3",
   "version": "3.8.3"
  }
 },
 "nbformat": 4,
 "nbformat_minor": 4
}
