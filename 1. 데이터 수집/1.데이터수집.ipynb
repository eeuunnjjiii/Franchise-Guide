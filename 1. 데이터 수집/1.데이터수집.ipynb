{
 "cells": [
  {
   "cell_type": "markdown",
   "metadata": {},
   "source": [
    "# 정보공개서 데이터 수집\n",
    "- 출처 : 공정거래위원회 가맹사업거래 홈페이지 (https://franchise.ftc.go.kr/main/index.do)\n",
    "- '가맹희망플러스' 탭에서 업종 '외식' 데이터 전부 수집 (2016년-2020년 등록 데이터)\n",
    "- '정보공개서' 탭에서 2020년 데이터 수집 (2021년 등록)"
   ]
  },
  {
   "cell_type": "markdown",
   "metadata": {},
   "source": [
    "# 1. 2016년 - 2020년 등록 데이터"
   ]
  },
  {
   "cell_type": "code",
   "execution_count": 21,
   "metadata": {},
   "outputs": [],
   "source": [
    "def get_data(등록년도, 비교항목1, 비교항목2):\n",
    "    \"\"\"\n",
    "    등록년도별 비교항목 수집 함수\n",
    "    \n",
    "    등록년도 : 2015-2020\n",
    "    비교항목1 : 해당 페이지 첫번째 드롭다운(업종별, 가맹본부별, 브랜드별)\n",
    "    비교항목2 : 해당 페이지 두번째 드롭다운\n",
    "\n",
    "    \"\"\"\n",
    "    \n",
    "    from selenium import webdriver\n",
    "    from selenium.webdriver.common.keys import Keys\n",
    "    from selenium.webdriver.support.ui import Select\n",
    "    from bs4 import BeautifulSoup\n",
    "    import time\n",
    "    import pandas as pd\n",
    "\n",
    "    chromedriver = '/usr/local/bin/chromedriver/chromedriver'\n",
    "    driver = webdriver.Chrome(chromedriver)\n",
    "\n",
    "    #크롤링 사이트 호출\n",
    "    url = 'https://franchise.ftc.go.kr/mnu/00014/program/firHope/view.do'\n",
    "    driver.get(url)\n",
    "    \n",
    "    # 드롭다운 선택\n",
    "    button0= Select(driver.find_element_by_css_selector('#selYear'))\n",
    "    button0.select_by_visible_text(등록년도)\n",
    "    button1= Select(driver.find_element_by_css_selector('#searchCondition'))\n",
    "    button1.select_by_visible_text(비교항목1)\n",
    "    button2 = Select(driver.find_element_by_css_selector('#selListType'))\n",
    "    button2.select_by_visible_text(비교항목2)\n",
    "    button3 = Select(driver.find_element_by_css_selector('#selUpjong'))\n",
    "    button3.select_by_visible_text('외식')\n",
    "    time.sleep(1)\n",
    "    \n",
    "    # 빈 데이터프레임 만들기\n",
    "    new_df = pd.DataFrame()\n",
    "    \n",
    "    # 업종별 데이터프레임 만들기\n",
    "    category = ['A1','B1','C1','D1','E1','F1','G1','H1','I1','J1','K1','L1','M1','N1','O1']\n",
    "    for i in category :\n",
    "        button4 = Select(driver.find_element_by_css_selector('#selIndus'))\n",
    "        button4.select_by_value(i)\n",
    "        \n",
    "        # 검색 버튼\n",
    "        search_button = driver.find_element_by_css_selector('#frm > div:nth-child(6) > input[type=image]:nth-child(3)')\n",
    "\n",
    "        # 키보드/마우스 동작 자동화 > 검색 버튼 클릭\n",
    "        webdriver.ActionChains(driver).click(search_button).perform()\n",
    "        time.sleep(2)\n",
    "        \n",
    "        # table 형태 html 그대로 저장\n",
    "        result_html = driver.page_source\n",
    "        result_soup = BeautifulSoup(result_html, 'html.parser')\n",
    "        tags = result_soup.find(attrs={\"class\":\"box_plus kft_box\"})\n",
    "        \n",
    "        ##!pip install html_table_parser\n",
    "        from html_table_parser import parser_functions as parser\n",
    "        html_table = parser.make2d(tags)\n",
    "\n",
    "        df=pd.DataFrame(html_table[1:], columns=html_table[0])\n",
    "        df['업종'] = i ## 업종 추가\n",
    "\n",
    "        new_df = new_df.append(df) ## 업종별 데이터 합치기\n",
    "        \n",
    "    driver.quit()    \n",
    "    return new_df"
   ]
  },
  {
   "cell_type": "code",
   "execution_count": 25,
   "metadata": {},
   "outputs": [],
   "source": [
    "def get_df(비교항목1, 비교항목2):\n",
    "    \"\"\"\n",
    "    필요한 연도별(2016-2020) 비교항목 데이터프레임 만드는 함수\n",
    "    비교항목1 : 해당 페이지 첫번째 드롭다운(업종별, 가맹본부별, 브랜드별)\n",
    "    비교항목2 : 해당 페이지 두번째 드롭다운\n",
    "\n",
    "    \"\"\"   \n",
    "    import pandas as pd\n",
    "    new_df = pd.DataFrame()\n",
    "    years = ['2020', '2019', '2018', '2017', '2016']\n",
    "    for year in years:\n",
    "        df = get_data(year, 비교항목1, 비교항목2)\n",
    "        df['기준년도'] = year\n",
    "        new_df = pd.concat([new_df, df])\n",
    "    return new_df"
   ]
  },
  {
   "cell_type": "code",
   "execution_count": 40,
   "metadata": {},
   "outputs": [],
   "source": [
    "import pandas as pd\n",
    "\n",
    "# 데이터 수집 시작\n",
    "## 가맹본부별 > 성장성, 안정성, 수익성\n",
    "growth = get_df('가맹본부별', '성장성')\n",
    "stability = get_df('가맹본부별', '안정성')\n",
    "profit = get_df('가맹본부별', '수익성')\n",
    "\n",
    "## 브랜드별 > 브랜드 개요, 가맹정 현황 정보, 가맹점 창업비용\n",
    "overview = get_df('브랜드별', '브랜드 개요')\n",
    "info = get_df('브랜드별', '가맹점 현황 정보')\n",
    "cost = get_df('브랜드별', '가맹점 창업비용')"
   ]
  },
  {
   "cell_type": "code",
   "execution_count": 41,
   "metadata": {},
   "outputs": [
    {
     "data": {
      "text/plain": [
       "((11109, 9), (11109, 9), (11109, 10), (20585, 8), (20426, 11), (20915, 12))"
      ]
     },
     "execution_count": 41,
     "metadata": {},
     "output_type": "execute_result"
    }
   ],
   "source": [
    "# 확인\n",
    "growth.shape, stability.shape, profit.shape, overview.shape, info.shape, cost.shape"
   ]
  },
  {
   "cell_type": "code",
   "execution_count": 44,
   "metadata": {},
   "outputs": [],
   "source": [
    "# csv 파일로 변환\n",
    "growth.to_csv('growth.csv')\n",
    "stability.to_csv('stability.csv')\n",
    "profit.to_csv('profit.csv')\n",
    "overview.to_csv('overview.csv')\n",
    "info.to_csv('info.csv')\n",
    "cost.to_csv('cost.csv')"
   ]
  },
  {
   "cell_type": "markdown",
   "metadata": {},
   "source": [
    "# 2. 2021년 등록 데이터"
   ]
  },
  {
   "cell_type": "code",
   "execution_count": 241,
   "metadata": {},
   "outputs": [],
   "source": [
    "# 정보공개서 개별 주소 크롤링\n",
    "\n",
    "from selenium import webdriver\n",
    "from selenium.webdriver.common.keys import Keys\n",
    "from selenium.webdriver.support.ui import Select\n",
    "from bs4 import BeautifulSoup\n",
    "import time\n",
    "\n",
    "chromedriver = '/usr/local/bin/chromedriver/chromedriver'\n",
    "driver = webdriver.Chrome(chromedriver)\n",
    "\n",
    "ls = []\n",
    "for num in range(1,24):\n",
    "    #크롤링 사이트 호출\n",
    "    url = 'https://franchise.ftc.go.kr/mnu/00013/program/userRqst/list.do?searchCondition=&searchKeyword=&column=brd&selUpjong=21&selIndus=&pageUnit=300&pageIndex='+str(num)\n",
    "    driver.get(url)\n",
    "    time.sleep(2)\n",
    "\n",
    "    elem = driver.find_elements_by_class_name('authCtrl')\n",
    "    for i in elem:\n",
    "        ls.append(i.get_attribute('onclick'))\n",
    "\n",
    "ls = list(set(ls)) ## 중복제거"
   ]
  },
  {
   "cell_type": "code",
   "execution_count": 63,
   "metadata": {},
   "outputs": [],
   "source": [
    "# 정보공개서 크롤링\n",
    "\n",
    "from selenium import webdriver\n",
    "from selenium.webdriver.common.keys import Keys\n",
    "from selenium.webdriver.support.ui import Select\n",
    "from bs4 import BeautifulSoup\n",
    "import time\n",
    "import pandas as pd\n",
    "\n",
    "chromedriver = '/usr/local/bin/chromedriver/chromedriver'\n",
    "driver = webdriver.Chrome(chromedriver)\n",
    "\n",
    "total_df = pd.DataFrame()\n",
    "\n",
    "#크롤링 사이트 호출\n",
    "for site in ls:\n",
    "    url = 'https://franchise.ftc.go.kr'+ site.split(\"'\")[1]\n",
    "    driver.get(url)\n",
    "\n",
    "    # table 형태 html 그대로 저장\n",
    "    result_html = driver.page_source\n",
    "    result_soup = BeautifulSoup(result_html, 'html.parser')\n",
    "    tags = result_soup.find_all(attrs={\"class\":\"table\"})\n",
    "\n",
    "    from html_table_parser import parser_functions as parser\n",
    "    ## 가맹본부 일반현황\n",
    "    html_table = parser.make2d(tags[0])\n",
    "    df=pd.DataFrame(html_table[1:], columns=html_table[0]).iloc[:1,:]\n",
    "    ## 가맹본부 재무상황\n",
    "    html_table = parser.make2d(tags[2])\n",
    "    tmp=pd.DataFrame(html_table[1:], columns=html_table[0])\n",
    "    df = pd.concat([df,tmp.iloc[:1,:]],axis=1)\n",
    "    ## 가맹본부 임직원수\n",
    "    html_table = parser.make2d(tags[3])\n",
    "    try:\n",
    "        df['가맹본부 임직원수'] = int(html_table[1][1])+int(html_table[1][2])\n",
    "    except:\n",
    "        df['가맹본부 임직원수'] = 0\n",
    "    ## 가맹사업 개시일\n",
    "    html_table = parser.make2d(tags[5])\n",
    "    df['가맹사업 개시일']=[html_table[0][1]]\n",
    "    ## 가맹점 현황\n",
    "    html_table = parser.make2d(tags[7])\n",
    "    tmp=pd.DataFrame(html_table[1:], columns=html_table[0])\n",
    "    df = pd.concat([df,tmp.iloc[:1,1:]],axis=1)\n",
    "    ## 가맹점 변동현황\n",
    "    html_table = parser.make2d(tags[8])\n",
    "    tmp = pd.DataFrame(html_table[2:3], columns=html_table[1])\n",
    "    df = pd.concat([df,tmp.iloc[:,1:]],axis=1)\n",
    "    ## 법위반횟수\n",
    "    html_table = parser.make2d(tags[12])\n",
    "    total=0\n",
    "    try:\n",
    "        for i in html_table[1]:\n",
    "            total+=int(i)\n",
    "        df['법위반횟수'] = total\n",
    "    except:\n",
    "        df['법위반횟수'] = 0\n",
    "    ## 가맹점 부담금\n",
    "    html_table = parser.make2d(tags[13])\n",
    "    tmp=pd.DataFrame(html_table[1:], columns=html_table[0])\n",
    "    df = pd.concat([df,tmp],axis=1)\n",
    "    ## 인테리어 비용\n",
    "    html_table = parser.make2d(tags[14])\n",
    "    tmp=pd.DataFrame(html_table[1:], columns=html_table[0])\n",
    "    df = pd.concat([df,tmp],axis=1)\n",
    "    \n",
    "    total_df = pd.concat([total_df,df])"
   ]
  },
  {
   "cell_type": "code",
   "execution_count": 65,
   "metadata": {},
   "outputs": [],
   "source": [
    "# csv 파일로 변환\n",
    "total_df.to_csv('data_2020.csv')"
   ]
  }
 ],
 "metadata": {
  "kernelspec": {
   "display_name": "Python 3",
   "language": "python",
   "name": "python3"
  },
  "language_info": {
   "codemirror_mode": {
    "name": "ipython",
    "version": 3
   },
   "file_extension": ".py",
   "mimetype": "text/x-python",
   "name": "python",
   "nbconvert_exporter": "python",
   "pygments_lexer": "ipython3",
   "version": "3.8.3"
  }
 },
 "nbformat": 4,
 "nbformat_minor": 4
}
