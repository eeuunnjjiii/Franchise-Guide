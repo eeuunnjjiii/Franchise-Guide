{
  "nbformat": 4,
  "nbformat_minor": 0,
  "metadata": {
    "colab": {
      "name": "4-2.Modeling_회귀",
      "provenance": [],
      "collapsed_sections": [],
      "toc_visible": true,
      "authorship_tag": "ABX9TyPqQXyZ3wZyV6AfdWzXMqrm",
      "include_colab_link": true
    },
    "kernelspec": {
      "name": "python3",
      "display_name": "Python 3"
    },
    "language_info": {
      "name": "python"
    }
  },
  "cells": [
    {
      "cell_type": "markdown",
      "metadata": {
        "id": "view-in-github",
        "colab_type": "text"
      },
      "source": [
        "<a href=\"https://colab.research.google.com/github/eeuunnjjiii/Franchise-Guide/blob/main/4.Modeling/4-2.Modeling_%ED%9A%8C%EA%B7%80.ipynb\" target=\"_parent\"><img src=\"https://colab.research.google.com/assets/colab-badge.svg\" alt=\"Open In Colab\"/></a>"
      ]
    },
    {
      "cell_type": "code",
      "metadata": {
        "colab": {
          "base_uri": "https://localhost:8080/"
        },
        "id": "a25rAsvILaMl",
        "outputId": "b3b00b5a-3839-4aec-a213-9824416e9ca2"
      },
      "source": [
        "import pandas as pd\n",
        "import numpy as np\n",
        "\n",
        "import seaborn as sns\n",
        "import matplotlib.pyplot as plt\n",
        "import warnings\n",
        "warnings.filterwarnings(\"ignore\")\n",
        "\n",
        "# 한글 깨짐 방지\n",
        "!apt-get install fonts-nanum*\n",
        "!apt-get install fontconfig\n",
        "import matplotlib.font_manager as fm\n",
        "path = '/usr/share/fonts/truetype/nanum/NanumGothicEco.ttf'\n",
        "font_name = fm.FontProperties(fname=path, size=10).get_name()\n",
        "print(font_name)\n",
        "plt.rc('font', family=font_name)\n",
        "fm._rebuild()\n",
        "\n",
        "# 화질 선명하게 설정\n",
        "%config InlineBackend.figure_format='retina'\n",
        "\n",
        "# DataFrame 컬럼 전체보기 설정\n",
        "pd.set_option('display.max_columns', None) "
      ],
      "execution_count": 1,
      "outputs": [
        {
          "output_type": "stream",
          "name": "stdout",
          "text": [
            "Reading package lists... Done\n",
            "Building dependency tree       \n",
            "Reading state information... Done\n",
            "Note, selecting 'fonts-nanum-eco' for glob 'fonts-nanum*'\n",
            "Note, selecting 'fonts-nanum' for glob 'fonts-nanum*'\n",
            "Note, selecting 'fonts-nanum-gothic-light' for glob 'fonts-nanum*'\n",
            "Note, selecting 'fonts-nanum-coding' for glob 'fonts-nanum*'\n",
            "Note, selecting 'fonts-nanum-extra' for glob 'fonts-nanum*'\n",
            "fonts-nanum is already the newest version (20170925-1).\n",
            "fonts-nanum-coding is already the newest version (2.5-1).\n",
            "fonts-nanum-eco is already the newest version (1.000-6).\n",
            "fonts-nanum-extra is already the newest version (20170925-1).\n",
            "0 upgraded, 0 newly installed, 0 to remove and 37 not upgraded.\n",
            "Reading package lists... Done\n",
            "Building dependency tree       \n",
            "Reading state information... Done\n",
            "fontconfig is already the newest version (2.12.6-0ubuntu2).\n",
            "0 upgraded, 0 newly installed, 0 to remove and 37 not upgraded.\n",
            "NanumGothic Eco\n"
          ]
        }
      ]
    },
    {
      "cell_type": "code",
      "metadata": {
        "colab": {
          "base_uri": "https://localhost:8080/"
        },
        "id": "vH7KqqaZRR5_",
        "outputId": "f3779823-9b99-4c6a-9740-687e9e4b7b0b"
      },
      "source": [
        "from google.colab import drive\n",
        "drive.mount('/content/drive')"
      ],
      "execution_count": 2,
      "outputs": [
        {
          "output_type": "stream",
          "name": "stdout",
          "text": [
            "Mounted at /content/drive\n"
          ]
        }
      ]
    },
    {
      "cell_type": "code",
      "metadata": {
        "id": "psvuA4qZRZS_"
      },
      "source": [
        "# 데이터 가져오기\n",
        "import pandas as pd\n",
        "df = pd.read_csv('/content/drive/MyDrive/franchise_data/total_eda.csv', index_col=0).reset_index(drop=True)"
      ],
      "execution_count": 3,
      "outputs": []
    },
    {
      "cell_type": "markdown",
      "metadata": {
        "id": "lUoq9rgoUFhJ"
      },
      "source": [
        "#1. 기준모델"
      ]
    },
    {
      "cell_type": "code",
      "metadata": {
        "colab": {
          "base_uri": "https://localhost:8080/"
        },
        "id": "JYXrshWDUHpS",
        "outputId": "785fc297-be13-467a-d7a7-0f21ea51faa1"
      },
      "source": [
        "# 타겟지정\n",
        "target = '가맹점평균매출액'\n",
        "\n",
        "#sklearn 사용\n",
        "from sklearn.metrics import mean_absolute_error\n",
        "y_pred=[df[target].mean()]*len(df)\n",
        "mae=mean_absolute_error(df[target],y_pred)\n",
        "print('기준모델 mae : ',mae) ## 이상치가 있기 때문에, mae 지표 사용"
      ],
      "execution_count": 5,
      "outputs": [
        {
          "output_type": "stream",
          "name": "stdout",
          "text": [
            "기준모델 mae :  179816.18196185297\n"
          ]
        }
      ]
    },
    {
      "cell_type": "markdown",
      "metadata": {
        "id": "4DXZtdNFW4sH"
      },
      "source": [
        "#3. 데이터 분리"
      ]
    },
    {
      "cell_type": "code",
      "metadata": {
        "colab": {
          "base_uri": "https://localhost:8080/"
        },
        "id": "pO-kbspOW05y",
        "outputId": "4ce65d7e-a9c1-4d39-e5cc-693447ce2f3d"
      },
      "source": [
        "#Hold-out 방식으로 훈련, 검증, 테스트 데이터셋 분리 (타겟데이터 비율 맞추기)\n",
        "from sklearn.model_selection import train_test_split\n",
        "train,test = train_test_split(df,train_size=0.8, test_size=0.2, random_state=2)\n",
        "train,val = train_test_split(train,train_size=0.8, test_size=0.2, random_state=2)\n",
        "\n",
        "train.shape, val.shape, test.shape"
      ],
      "execution_count": 6,
      "outputs": [
        {
          "output_type": "execute_result",
          "data": {
            "text/plain": [
              "((5328, 36), (1333, 36), (1666, 36))"
            ]
          },
          "metadata": {},
          "execution_count": 6
        }
      ]
    },
    {
      "cell_type": "code",
      "metadata": {
        "id": "wjVguXM-XBZQ"
      },
      "source": [
        "#데이터 특성/타겟 분리\n",
        "\n",
        "features=train.drop(columns=[target]).columns\n",
        "\n",
        "X_train=train[features]\n",
        "y_train = train[target]\n",
        "X_val = val[features]\n",
        "y_val = val[target]\n",
        "X_test = test[features]\n",
        "y_test = test[target]"
      ],
      "execution_count": 7,
      "outputs": []
    },
    {
      "cell_type": "markdown",
      "metadata": {
        "id": "-ngaYqVzXJ5P"
      },
      "source": [
        "#4. 특성 줄이기"
      ]
    },
    {
      "cell_type": "code",
      "metadata": {
        "id": "9y4N2WeiXHsy"
      },
      "source": [
        "def remove_feature(df):\n",
        "    \n",
        "    # 정보공개서에서 쉽게 열람할 수 없는 특성 삭제\n",
        "    df = df.drop(['부채비율','자기자본비율','영업이익률','매출액순이익률','자기자본순이익률','폐점','폐업률'],axis=1)\n",
        "\n",
        "    # data leakage 특성 제거\n",
        "    df = df.drop(['면적당평균매출액'],axis=1)\n",
        "\n",
        "    # data cardinality 높은 특성 제거\n",
        "    df =df.drop(['브랜드','상호'], axis=1)\n",
        "    \n",
        "    # 중복되는 특성 제거\n",
        "    df = df.drop(['면적당인테리어비용','기준년도','가맹사업개시일'],axis=1)\n",
        "    \n",
        "    # 합계(가맹비+교육비+보증금+기타비용)에 해당되는 특성 제거\n",
        "    df = df.drop(['가맹비','교육비','보증금','기타비용'],axis=1)\n",
        "\n",
        "    return df\n",
        "\n",
        "X_train=remove_feature(X_train)\n",
        "X_val=remove_feature(X_val)\n",
        "X_test=remove_feature(X_test)"
      ],
      "execution_count": 8,
      "outputs": []
    },
    {
      "cell_type": "markdown",
      "metadata": {
        "id": "_W7epvavaOgf"
      },
      "source": [
        "#5. 머신러닝 적용"
      ]
    },
    {
      "cell_type": "markdown",
      "metadata": {
        "id": "0xAYJ3u4aSE8"
      },
      "source": [
        "##1) Linear Regression 모델"
      ]
    },
    {
      "cell_type": "code",
      "metadata": {
        "colab": {
          "base_uri": "https://localhost:8080/"
        },
        "id": "l1YmylpmcBWL",
        "outputId": "b179e227-8826-4324-a6ba-0ac1023ece38"
      },
      "source": [
        "!pip install category_encoders"
      ],
      "execution_count": 9,
      "outputs": [
        {
          "output_type": "stream",
          "name": "stdout",
          "text": [
            "Collecting category_encoders\n",
            "  Downloading category_encoders-2.2.2-py2.py3-none-any.whl (80 kB)\n",
            "\u001b[?25l\r\u001b[K     |████                            | 10 kB 23.1 MB/s eta 0:00:01\r\u001b[K     |████████▏                       | 20 kB 28.4 MB/s eta 0:00:01\r\u001b[K     |████████████▏                   | 30 kB 33.2 MB/s eta 0:00:01\r\u001b[K     |████████████████▎               | 40 kB 34.9 MB/s eta 0:00:01\r\u001b[K     |████████████████████▎           | 51 kB 30.5 MB/s eta 0:00:01\r\u001b[K     |████████████████████████▍       | 61 kB 30.6 MB/s eta 0:00:01\r\u001b[K     |████████████████████████████▍   | 71 kB 27.6 MB/s eta 0:00:01\r\u001b[K     |████████████████████████████████| 80 kB 7.6 MB/s \n",
            "\u001b[?25hRequirement already satisfied: numpy>=1.14.0 in /usr/local/lib/python3.7/dist-packages (from category_encoders) (1.19.5)\n",
            "Requirement already satisfied: pandas>=0.21.1 in /usr/local/lib/python3.7/dist-packages (from category_encoders) (1.1.5)\n",
            "Requirement already satisfied: patsy>=0.5.1 in /usr/local/lib/python3.7/dist-packages (from category_encoders) (0.5.2)\n",
            "Requirement already satisfied: scipy>=1.0.0 in /usr/local/lib/python3.7/dist-packages (from category_encoders) (1.4.1)\n",
            "Requirement already satisfied: scikit-learn>=0.20.0 in /usr/local/lib/python3.7/dist-packages (from category_encoders) (0.22.2.post1)\n",
            "Requirement already satisfied: statsmodels>=0.9.0 in /usr/local/lib/python3.7/dist-packages (from category_encoders) (0.10.2)\n",
            "Requirement already satisfied: pytz>=2017.2 in /usr/local/lib/python3.7/dist-packages (from pandas>=0.21.1->category_encoders) (2018.9)\n",
            "Requirement already satisfied: python-dateutil>=2.7.3 in /usr/local/lib/python3.7/dist-packages (from pandas>=0.21.1->category_encoders) (2.8.2)\n",
            "Requirement already satisfied: six in /usr/local/lib/python3.7/dist-packages (from patsy>=0.5.1->category_encoders) (1.15.0)\n",
            "Requirement already satisfied: joblib>=0.11 in /usr/local/lib/python3.7/dist-packages (from scikit-learn>=0.20.0->category_encoders) (1.0.1)\n",
            "Installing collected packages: category-encoders\n",
            "Successfully installed category-encoders-2.2.2\n"
          ]
        }
      ]
    },
    {
      "cell_type": "code",
      "metadata": {
        "colab": {
          "base_uri": "https://localhost:8080/"
        },
        "id": "Jl9uwUvJYZj8",
        "outputId": "9bf49ed6-8288-4eb0-ff6f-ec469c5d08d3"
      },
      "source": [
        "from sklearn.pipeline import make_pipeline\n",
        "from category_encoders import TargetEncoder\n",
        "from sklearn.preprocessing import RobustScaler\n",
        "from sklearn.linear_model import LinearRegression\n",
        "from sklearn.metrics import r2_score\n",
        "\n",
        "pipe1=make_pipeline(TargetEncoder(), ## target에 맞춰 범주형 인코딩\n",
        "                   RobustScaler(), ## 이상치에 강함 (평균과 분산 대신 중앙값과 사분위값 사용)\n",
        "                   LinearRegression()) ## 가장 기본모델\n",
        "\n",
        "pipe1.fit(X_train,y_train)\n",
        "y_pred = pipe1.predict(X_val)\n",
        "print('검증 데이터 MAE(Linear):', mean_absolute_error(y_val,y_pred))\n",
        "print('검증 데이터 R2(Linear):', r2_score(y_val,y_pred))"
      ],
      "execution_count": 10,
      "outputs": [
        {
          "output_type": "stream",
          "name": "stdout",
          "text": [
            "검증 데이터 MAE(Linear): 135604.39144220008\n",
            "검증 데이터 R2(Linear): 0.27838029511822737\n"
          ]
        }
      ]
    },
    {
      "cell_type": "markdown",
      "metadata": {
        "id": "crAvBkh_dB48"
      },
      "source": [
        "##2) RandomForests 모델"
      ]
    },
    {
      "cell_type": "code",
      "metadata": {
        "colab": {
          "base_uri": "https://localhost:8080/"
        },
        "id": "eV3_SLPfPYkR",
        "outputId": "2b52742d-2110-4c20-aa3d-763d44e4a40c"
      },
      "source": [
        "from sklearn.ensemble import RandomForestRegressor\n",
        "\n",
        "pipe2=make_pipeline(TargetEncoder(), ## target에 맞춰 범주형 인코딩\n",
        "                   RobustScaler(), ## 이상치에 강함 (평균과 분산 대신 중앙값과 사분위값 사용)\n",
        "                   RandomForestRegressor(random_state=2)) ## 가장 기본모델\n",
        "\n",
        "pipe2.fit(X_train,y_train)\n",
        "y_pred = pipe2.predict(X_val)\n",
        "print('검증 데이터 MAE(RandomForests):', mean_absolute_error(y_val,y_pred))\n",
        "print('검증 데이터 R2(RandomForests):', r2_score(y_val,y_pred))"
      ],
      "execution_count": 11,
      "outputs": [
        {
          "output_type": "stream",
          "name": "stdout",
          "text": [
            "검증 데이터 MAE(RandomForests): 104855.22068267065\n",
            "검증 데이터 R2(RandomForests): 0.4145206431218339\n"
          ]
        }
      ]
    },
    {
      "cell_type": "markdown",
      "metadata": {
        "id": "WrOQOqsMPnUB"
      },
      "source": [
        "##3) XGBoost 모델"
      ]
    },
    {
      "cell_type": "code",
      "metadata": {
        "colab": {
          "base_uri": "https://localhost:8080/"
        },
        "id": "VtG-UjCoeEZO",
        "outputId": "b4cd9b95-5908-4355-c8f5-3ded8ce25422"
      },
      "source": [
        "from xgboost import XGBRegressor\n",
        "\n",
        "pipe_xg=make_pipeline(TargetEncoder(),\n",
        "                      RobustScaler(),\n",
        "                      XGBRegressor(n_jobs=-1, random_state=2))\n",
        "\n",
        "pipe_xg.fit(X_train,y_train);\n",
        "y_pred = pipe_xg.predict(X_val)\n",
        "print('검증 데이터 MAE(XGBoost):', mean_absolute_error(y_val,y_pred))\n",
        "print('검증 데이터 R2(XGBoost):', r2_score(y_val,y_pred))"
      ],
      "execution_count": 12,
      "outputs": [
        {
          "output_type": "stream",
          "name": "stdout",
          "text": [
            "[12:53:53] WARNING: /workspace/src/objective/regression_obj.cu:152: reg:linear is now deprecated in favor of reg:squarederror.\n",
            "검증 데이터 MAE(XGBoost): 114894.75261393473\n",
            "검증 데이터 R2(XGBoost): 0.38173445513902615\n"
          ]
        }
      ]
    },
    {
      "cell_type": "markdown",
      "metadata": {
        "id": "E0vKKVAnflry"
      },
      "source": [
        "- 모든 평가지표에서 더 나은 성능을 보인 RandomForest 모델 선택"
      ]
    },
    {
      "cell_type": "markdown",
      "metadata": {
        "id": "Y6mbJzv9fc4T"
      },
      "source": [
        "##4) RandomForest 모델 하이퍼파라미터 수정"
      ]
    },
    {
      "cell_type": "code",
      "metadata": {
        "colab": {
          "base_uri": "https://localhost:8080/"
        },
        "id": "zSuqh5MWfRPh",
        "outputId": "e03a8042-df00-4370-df68-a2478cb3035d"
      },
      "source": [
        "from sklearn.model_selection import RandomizedSearchCV\n",
        "from scipy.stats import randint, uniform\n",
        "\n",
        "pipe=make_pipeline(TargetEncoder(), ## target에 맞춰 범주형 인코딩\n",
        "                   RobustScaler(), ## 이상치에 강함 (평균과 분산 대신 중앙값과 사분위값 사용)\n",
        "                   RandomForestRegressor(random_state=2)) ## 가장 기본모델\n",
        "\n",
        "# 하이퍼파라미터 범위 지정\n",
        "\n",
        "dists={\n",
        "    'targetencoder__smoothing' : [1.,10.,50.,100.,500.],\n",
        "    'targetencoder__min_samples_leaf' : randint(1,50),\n",
        "    'robustscaler__quantile_range':[(25.0,75.0),(10.0,90.0),(1.0,99.0)],\n",
        "    'randomforestregressor__n_estimators' : randint(1,500),\n",
        "    'randomforestregressor__max_depth': [5, 10, 15, 20, None],\n",
        "    'randomforestregressor__max_features' : uniform(0,1)\n",
        "}\n",
        "\n",
        "# 시행\n",
        "clf = RandomizedSearchCV(\n",
        "    pipe, \n",
        "    param_distributions=dists, \n",
        "    cv=5, \n",
        "    scoring='r2',  \n",
        "    verbose=1,\n",
        "    n_jobs=-1,\n",
        "    random_state=2\n",
        "    )\n",
        "\n",
        "clf.fit(X_train, y_train);"
      ],
      "execution_count": 13,
      "outputs": [
        {
          "output_type": "stream",
          "name": "stdout",
          "text": [
            "Fitting 5 folds for each of 10 candidates, totalling 50 fits\n"
          ]
        },
        {
          "output_type": "stream",
          "name": "stderr",
          "text": [
            "[Parallel(n_jobs=-1)]: Using backend LokyBackend with 2 concurrent workers.\n",
            "[Parallel(n_jobs=-1)]: Done  46 tasks      | elapsed:  2.3min\n",
            "[Parallel(n_jobs=-1)]: Done  50 out of  50 | elapsed:  2.4min finished\n"
          ]
        }
      ]
    },
    {
      "cell_type": "code",
      "metadata": {
        "colab": {
          "base_uri": "https://localhost:8080/"
        },
        "id": "gRewMrKpinuA",
        "outputId": "f59010ad-7930-4021-f445-49f233b5e320"
      },
      "source": [
        "print('최적 하이퍼파라미터: ', clf.best_params_)\n",
        "print('score: ', clf.best_score_)"
      ],
      "execution_count": 14,
      "outputs": [
        {
          "output_type": "stream",
          "name": "stdout",
          "text": [
            "최적 하이퍼파라미터:  {'randomforestregressor__max_depth': 20, 'randomforestregressor__max_features': 0.42036780208748903, 'randomforestregressor__n_estimators': 163, 'robustscaler__quantile_range': (10.0, 90.0), 'targetencoder__min_samples_leaf': 32, 'targetencoder__smoothing': 100.0}\n",
            "score:  0.6210075764693426\n"
          ]
        }
      ]
    },
    {
      "cell_type": "code",
      "metadata": {
        "colab": {
          "base_uri": "https://localhost:8080/"
        },
        "id": "QY9gJvls-n-_",
        "outputId": "64b8f892-632e-46b1-acc9-3d1331dc1976"
      },
      "source": [
        "dists1={\n",
        "    'targetencoder__smoothing' : [100.,110.,120.,130.],\n",
        "    'targetencoder__min_samples_leaf' : randint(30,40),\n",
        "    'robustscaler__quantile_range':[(25.0,75.0),(10.0,90.0),(1.0,99.0)],\n",
        "    'randomforestregressor__n_estimators' : randint(160,170),\n",
        "    'randomforestregressor__max_depth': randint(15,25),\n",
        "    'randomforestregressor__max_features' : uniform(0,1)\n",
        "}\n",
        "\n",
        "# 시행\n",
        "clf2 = RandomizedSearchCV(\n",
        "    pipe, \n",
        "    param_distributions=dists1, \n",
        "    cv=5, \n",
        "    scoring='r2',  \n",
        "    verbose=1,\n",
        "    n_jobs=-1,\n",
        "    random_state=2\n",
        "    )\n",
        "\n",
        "clf2.fit(X_train, y_train);"
      ],
      "execution_count": 17,
      "outputs": [
        {
          "output_type": "stream",
          "name": "stdout",
          "text": [
            "Fitting 5 folds for each of 10 candidates, totalling 50 fits\n"
          ]
        },
        {
          "output_type": "stream",
          "name": "stderr",
          "text": [
            "[Parallel(n_jobs=-1)]: Using backend LokyBackend with 2 concurrent workers.\n",
            "[Parallel(n_jobs=-1)]: Done  46 tasks      | elapsed:  2.1min\n",
            "[Parallel(n_jobs=-1)]: Done  50 out of  50 | elapsed:  2.3min finished\n"
          ]
        }
      ]
    },
    {
      "cell_type": "code",
      "metadata": {
        "colab": {
          "base_uri": "https://localhost:8080/"
        },
        "id": "e1o8tIk_AJKL",
        "outputId": "53b57637-79f4-41f4-d1b9-15125c8653d3"
      },
      "source": [
        "print('최적 하이퍼파라미터: ', clf2.best_params_)\n",
        "print('score: ', clf2.best_score_)"
      ],
      "execution_count": 18,
      "outputs": [
        {
          "output_type": "stream",
          "name": "stdout",
          "text": [
            "최적 하이퍼파라미터:  {'randomforestregressor__max_depth': 23, 'randomforestregressor__max_features': 0.35367537868439536, 'randomforestregressor__n_estimators': 169, 'robustscaler__quantile_range': (1.0, 99.0), 'targetencoder__min_samples_leaf': 35, 'targetencoder__smoothing': 120.0}\n",
            "score:  0.6208260420332752\n"
          ]
        }
      ]
    },
    {
      "cell_type": "markdown",
      "metadata": {
        "id": "L8zgfRkBATEG"
      },
      "source": [
        "- clf 모델 사용"
      ]
    },
    {
      "cell_type": "markdown",
      "metadata": {
        "id": "YmNBe8Yfontx"
      },
      "source": [
        "## 5) 최종 모델"
      ]
    },
    {
      "cell_type": "code",
      "metadata": {
        "id": "J-9I6nhvkvZh",
        "colab": {
          "base_uri": "https://localhost:8080/"
        },
        "outputId": "355a6557-4f69-4602-e692-96ab0dac4f20"
      },
      "source": [
        "# 최적 모델 생성\n",
        "model=make_pipeline(TargetEncoder(min_samples_leaf=32, smoothing=100.0), \n",
        "                   RobustScaler(quantile_range=(10.0, 90.0)), \n",
        "                   RandomForestRegressor(n_estimators=163, max_features=0.42036780208748903, max_depth=20, random_state=2))\n",
        "model.fit(X_train,y_train)\n",
        "y_pred = model.predict(X_val)\n",
        "print('검증 데이터 MAE:', mean_absolute_error(y_val,y_pred))\n",
        "print('검증 데이터 R2:', r2_score(y_val,y_pred))"
      ],
      "execution_count": 28,
      "outputs": [
        {
          "output_type": "stream",
          "name": "stdout",
          "text": [
            "검증 데이터 MAE: 103325.26228779185\n",
            "검증 데이터 R2: 0.43056601021454266\n"
          ]
        }
      ]
    },
    {
      "cell_type": "code",
      "metadata": {
        "id": "q0GFzgfIwIYY",
        "colab": {
          "base_uri": "https://localhost:8080/"
        },
        "outputId": "2a0a529c-6fb3-4779-b226-9a46b51a3e33"
      },
      "source": [
        "# test data 확인\n",
        "y_pred = model.predict(X_test)\n",
        "print('검증 데이터 MAE:', mean_absolute_error(y_test,y_pred))\n",
        "print('검증 데이터 R2:', r2_score(y_test,y_pred))"
      ],
      "execution_count": 29,
      "outputs": [
        {
          "output_type": "stream",
          "name": "stdout",
          "text": [
            "검증 데이터 MAE: 98638.1432373667\n",
            "검증 데이터 R2: 0.6581444467933129\n"
          ]
        }
      ]
    },
    {
      "cell_type": "markdown",
      "metadata": {
        "id": "YE4Cr_41pGW3"
      },
      "source": [
        "#6. 모델 해석"
      ]
    },
    {
      "cell_type": "markdown",
      "metadata": {
        "id": "a0gZbUUGtgMD"
      },
      "source": [
        "##1)  permutation importance : 특성 중요도"
      ]
    },
    {
      "cell_type": "code",
      "metadata": {
        "colab": {
          "base_uri": "https://localhost:8080/"
        },
        "id": "nlf4bEPUyvGw",
        "outputId": "cc9f98d5-34e4-40ad-8667-07fed966c56c"
      },
      "source": [
        "!pip install eli5"
      ],
      "execution_count": 30,
      "outputs": [
        {
          "output_type": "stream",
          "name": "stdout",
          "text": [
            "Collecting eli5\n",
            "  Downloading eli5-0.11.0-py2.py3-none-any.whl (106 kB)\n",
            "\u001b[?25l\r\u001b[K     |███                             | 10 kB 21.7 MB/s eta 0:00:01\r\u001b[K     |██████▏                         | 20 kB 26.6 MB/s eta 0:00:01\r\u001b[K     |█████████▎                      | 30 kB 30.0 MB/s eta 0:00:01\r\u001b[K     |████████████▍                   | 40 kB 33.3 MB/s eta 0:00:01\r\u001b[K     |███████████████▌                | 51 kB 36.0 MB/s eta 0:00:01\r\u001b[K     |██████████████████▌             | 61 kB 36.0 MB/s eta 0:00:01\r\u001b[K     |█████████████████████▋          | 71 kB 29.8 MB/s eta 0:00:01\r\u001b[K     |████████████████████████▊       | 81 kB 31.0 MB/s eta 0:00:01\r\u001b[K     |███████████████████████████▉    | 92 kB 32.9 MB/s eta 0:00:01\r\u001b[K     |███████████████████████████████ | 102 kB 35.0 MB/s eta 0:00:01\r\u001b[K     |████████████████████████████████| 106 kB 35.0 MB/s \n",
            "\u001b[?25hRequirement already satisfied: numpy>=1.9.0 in /usr/local/lib/python3.7/dist-packages (from eli5) (1.19.5)\n",
            "Requirement already satisfied: tabulate>=0.7.7 in /usr/local/lib/python3.7/dist-packages (from eli5) (0.8.9)\n",
            "Requirement already satisfied: jinja2 in /usr/local/lib/python3.7/dist-packages (from eli5) (2.11.3)\n",
            "Requirement already satisfied: attrs>16.0.0 in /usr/local/lib/python3.7/dist-packages (from eli5) (21.2.0)\n",
            "Requirement already satisfied: scipy in /usr/local/lib/python3.7/dist-packages (from eli5) (1.4.1)\n",
            "Requirement already satisfied: six in /usr/local/lib/python3.7/dist-packages (from eli5) (1.15.0)\n",
            "Requirement already satisfied: scikit-learn>=0.20 in /usr/local/lib/python3.7/dist-packages (from eli5) (0.22.2.post1)\n",
            "Requirement already satisfied: graphviz in /usr/local/lib/python3.7/dist-packages (from eli5) (0.10.1)\n",
            "Requirement already satisfied: joblib>=0.11 in /usr/local/lib/python3.7/dist-packages (from scikit-learn>=0.20->eli5) (1.0.1)\n",
            "Requirement already satisfied: MarkupSafe>=0.23 in /usr/local/lib/python3.7/dist-packages (from jinja2->eli5) (2.0.1)\n",
            "Installing collected packages: eli5\n",
            "Successfully installed eli5-0.11.0\n"
          ]
        }
      ]
    },
    {
      "cell_type": "code",
      "metadata": {
        "id": "zzqr86GAn0fe"
      },
      "source": [
        "import eli5\n",
        "from eli5.sklearn import PermutationImportance\n",
        "\n",
        "permuter=PermutationImportance(model, scoring='r2',random_state=2)\n",
        "\n",
        "encoder = TargetEncoder(min_samples_leaf=32, smoothing=100.0)\n",
        "X_train_encoded = encoder.fit_transform(X_train,y_train)\n",
        "X_test_encoded = encoder.transform(X_test)\n",
        "permuter.fit(X_test_encoded,y_test);"
      ],
      "execution_count": 35,
      "outputs": []
    },
    {
      "cell_type": "code",
      "metadata": {
        "colab": {
          "base_uri": "https://localhost:8080/",
          "height": 340
        },
        "id": "oLOlwBIby5SU",
        "outputId": "17780671-57ad-4c63-be21-b2755d8e51e3"
      },
      "source": [
        "# 특성별 score 확인\n",
        "eli5.show_weights(\n",
        "    permuter, \n",
        "    top=None, \n",
        "    feature_names=X_test_encoded.columns.tolist()\n",
        ")"
      ],
      "execution_count": 37,
      "outputs": [
        {
          "output_type": "execute_result",
          "data": {
            "text/html": [
              "\n",
              "    <style>\n",
              "    table.eli5-weights tr:hover {\n",
              "        filter: brightness(85%);\n",
              "    }\n",
              "</style>\n",
              "\n",
              "\n",
              "\n",
              "    \n",
              "\n",
              "    \n",
              "\n",
              "    \n",
              "\n",
              "    \n",
              "\n",
              "    \n",
              "\n",
              "    \n",
              "\n",
              "\n",
              "    \n",
              "\n",
              "    \n",
              "\n",
              "    \n",
              "\n",
              "    \n",
              "\n",
              "    \n",
              "\n",
              "    \n",
              "\n",
              "\n",
              "    \n",
              "\n",
              "    \n",
              "\n",
              "    \n",
              "\n",
              "    \n",
              "\n",
              "    \n",
              "        <table class=\"eli5-weights eli5-feature-importances\" style=\"border-collapse: collapse; border: none; margin-top: 0em; table-layout: auto;\">\n",
              "    <thead>\n",
              "    <tr style=\"border: none;\">\n",
              "        <th style=\"padding: 0 1em 0 0.5em; text-align: right; border: none;\">Weight</th>\n",
              "        <th style=\"padding: 0 0.5em 0 0.5em; text-align: left; border: none;\">Feature</th>\n",
              "    </tr>\n",
              "    </thead>\n",
              "    <tbody>\n",
              "    \n",
              "        <tr style=\"background-color: hsl(120, 100.00%, 80.00%); border: none;\">\n",
              "            <td style=\"padding: 0 1em 0 0.5em; text-align: right; border: none;\">\n",
              "                0.3426\n",
              "                \n",
              "                    &plusmn; 0.0147\n",
              "                \n",
              "            </td>\n",
              "            <td style=\"padding: 0 0.5em 0 0.5em; text-align: left; border: none;\">\n",
              "                합계\n",
              "            </td>\n",
              "        </tr>\n",
              "    \n",
              "        <tr style=\"background-color: hsl(120, 100.00%, 87.19%); border: none;\">\n",
              "            <td style=\"padding: 0 1em 0 0.5em; text-align: right; border: none;\">\n",
              "                0.1814\n",
              "                \n",
              "                    &plusmn; 0.0234\n",
              "                \n",
              "            </td>\n",
              "            <td style=\"padding: 0 0.5em 0 0.5em; text-align: left; border: none;\">\n",
              "                기준면적\n",
              "            </td>\n",
              "        </tr>\n",
              "    \n",
              "        <tr style=\"background-color: hsl(120, 100.00%, 95.21%); border: none;\">\n",
              "            <td style=\"padding: 0 1em 0 0.5em; text-align: right; border: none;\">\n",
              "                0.0445\n",
              "                \n",
              "                    &plusmn; 0.0075\n",
              "                \n",
              "            </td>\n",
              "            <td style=\"padding: 0 0.5em 0 0.5em; text-align: left; border: none;\">\n",
              "                총인테리어비용\n",
              "            </td>\n",
              "        </tr>\n",
              "    \n",
              "        <tr style=\"background-color: hsl(120, 100.00%, 95.38%); border: none;\">\n",
              "            <td style=\"padding: 0 1em 0 0.5em; text-align: right; border: none;\">\n",
              "                0.0423\n",
              "                \n",
              "                    &plusmn; 0.0096\n",
              "                \n",
              "            </td>\n",
              "            <td style=\"padding: 0 0.5em 0 0.5em; text-align: left; border: none;\">\n",
              "                당기순이익\n",
              "            </td>\n",
              "        </tr>\n",
              "    \n",
              "        <tr style=\"background-color: hsl(120, 100.00%, 95.91%); border: none;\">\n",
              "            <td style=\"padding: 0 1em 0 0.5em; text-align: right; border: none;\">\n",
              "                0.0355\n",
              "                \n",
              "                    &plusmn; 0.0092\n",
              "                \n",
              "            </td>\n",
              "            <td style=\"padding: 0 0.5em 0 0.5em; text-align: left; border: none;\">\n",
              "                가맹사업일수\n",
              "            </td>\n",
              "        </tr>\n",
              "    \n",
              "        <tr style=\"background-color: hsl(120, 100.00%, 96.64%); border: none;\">\n",
              "            <td style=\"padding: 0 1em 0 0.5em; text-align: right; border: none;\">\n",
              "                0.0268\n",
              "                \n",
              "                    &plusmn; 0.0058\n",
              "                \n",
              "            </td>\n",
              "            <td style=\"padding: 0 0.5em 0 0.5em; text-align: left; border: none;\">\n",
              "                영업이익\n",
              "            </td>\n",
              "        </tr>\n",
              "    \n",
              "        <tr style=\"background-color: hsl(120, 100.00%, 97.07%); border: none;\">\n",
              "            <td style=\"padding: 0 1em 0 0.5em; text-align: right; border: none;\">\n",
              "                0.0220\n",
              "                \n",
              "                    &plusmn; 0.0101\n",
              "                \n",
              "            </td>\n",
              "            <td style=\"padding: 0 0.5em 0 0.5em; text-align: left; border: none;\">\n",
              "                매출액\n",
              "            </td>\n",
              "        </tr>\n",
              "    \n",
              "        <tr style=\"background-color: hsl(120, 100.00%, 97.36%); border: none;\">\n",
              "            <td style=\"padding: 0 1em 0 0.5em; text-align: right; border: none;\">\n",
              "                0.0190\n",
              "                \n",
              "                    &plusmn; 0.0062\n",
              "                \n",
              "            </td>\n",
              "            <td style=\"padding: 0 0.5em 0 0.5em; text-align: left; border: none;\">\n",
              "                계약해지\n",
              "            </td>\n",
              "        </tr>\n",
              "    \n",
              "        <tr style=\"background-color: hsl(120, 100.00%, 97.68%); border: none;\">\n",
              "            <td style=\"padding: 0 1em 0 0.5em; text-align: right; border: none;\">\n",
              "                0.0158\n",
              "                \n",
              "                    &plusmn; 0.0038\n",
              "                \n",
              "            </td>\n",
              "            <td style=\"padding: 0 0.5em 0 0.5em; text-align: left; border: none;\">\n",
              "                자본\n",
              "            </td>\n",
              "        </tr>\n",
              "    \n",
              "        <tr style=\"background-color: hsl(120, 100.00%, 98.02%); border: none;\">\n",
              "            <td style=\"padding: 0 1em 0 0.5em; text-align: right; border: none;\">\n",
              "                0.0126\n",
              "                \n",
              "                    &plusmn; 0.0042\n",
              "                \n",
              "            </td>\n",
              "            <td style=\"padding: 0 0.5em 0 0.5em; text-align: left; border: none;\">\n",
              "                부채\n",
              "            </td>\n",
              "        </tr>\n",
              "    \n",
              "        <tr style=\"background-color: hsl(120, 100.00%, 98.05%); border: none;\">\n",
              "            <td style=\"padding: 0 1em 0 0.5em; text-align: right; border: none;\">\n",
              "                0.0123\n",
              "                \n",
              "                    &plusmn; 0.0027\n",
              "                \n",
              "            </td>\n",
              "            <td style=\"padding: 0 0.5em 0 0.5em; text-align: left; border: none;\">\n",
              "                신규개점\n",
              "            </td>\n",
              "        </tr>\n",
              "    \n",
              "        <tr style=\"background-color: hsl(120, 100.00%, 98.19%); border: none;\">\n",
              "            <td style=\"padding: 0 1em 0 0.5em; text-align: right; border: none;\">\n",
              "                0.0110\n",
              "                \n",
              "                    &plusmn; 0.0018\n",
              "                \n",
              "            </td>\n",
              "            <td style=\"padding: 0 0.5em 0 0.5em; text-align: left; border: none;\">\n",
              "                가맹본부임직원수\n",
              "            </td>\n",
              "        </tr>\n",
              "    \n",
              "        <tr style=\"background-color: hsl(120, 100.00%, 98.23%); border: none;\">\n",
              "            <td style=\"padding: 0 1em 0 0.5em; text-align: right; border: none;\">\n",
              "                0.0108\n",
              "                \n",
              "                    &plusmn; 0.0015\n",
              "                \n",
              "            </td>\n",
              "            <td style=\"padding: 0 0.5em 0 0.5em; text-align: left; border: none;\">\n",
              "                자산\n",
              "            </td>\n",
              "        </tr>\n",
              "    \n",
              "        <tr style=\"background-color: hsl(120, 100.00%, 98.81%); border: none;\">\n",
              "            <td style=\"padding: 0 1em 0 0.5em; text-align: right; border: none;\">\n",
              "                0.0061\n",
              "                \n",
              "                    &plusmn; 0.0032\n",
              "                \n",
              "            </td>\n",
              "            <td style=\"padding: 0 0.5em 0 0.5em; text-align: left; border: none;\">\n",
              "                계약종료\n",
              "            </td>\n",
              "        </tr>\n",
              "    \n",
              "        <tr style=\"background-color: hsl(120, 100.00%, 99.34%); border: none;\">\n",
              "            <td style=\"padding: 0 1em 0 0.5em; text-align: right; border: none;\">\n",
              "                0.0026\n",
              "                \n",
              "                    &plusmn; 0.0097\n",
              "                \n",
              "            </td>\n",
              "            <td style=\"padding: 0 0.5em 0 0.5em; text-align: left; border: none;\">\n",
              "                가맹점수\n",
              "            </td>\n",
              "        </tr>\n",
              "    \n",
              "        <tr style=\"background-color: hsl(120, 100.00%, 99.35%); border: none;\">\n",
              "            <td style=\"padding: 0 1em 0 0.5em; text-align: right; border: none;\">\n",
              "                0.0026\n",
              "                \n",
              "                    &plusmn; 0.0019\n",
              "                \n",
              "            </td>\n",
              "            <td style=\"padding: 0 0.5em 0 0.5em; text-align: left; border: none;\">\n",
              "                명의변경\n",
              "            </td>\n",
              "        </tr>\n",
              "    \n",
              "        <tr style=\"background-color: hsl(0, 100.00%, 100.00%); border: none;\">\n",
              "            <td style=\"padding: 0 1em 0 0.5em; text-align: right; border: none;\">\n",
              "                0\n",
              "                \n",
              "                    &plusmn; 0.0000\n",
              "                \n",
              "            </td>\n",
              "            <td style=\"padding: 0 0.5em 0 0.5em; text-align: left; border: none;\">\n",
              "                업종\n",
              "            </td>\n",
              "        </tr>\n",
              "    \n",
              "        <tr style=\"background-color: hsl(0, 100.00%, 99.77%); border: none;\">\n",
              "            <td style=\"padding: 0 1em 0 0.5em; text-align: right; border: none;\">\n",
              "                -0.0006\n",
              "                \n",
              "                    &plusmn; 0.0006\n",
              "                \n",
              "            </td>\n",
              "            <td style=\"padding: 0 0.5em 0 0.5em; text-align: left; border: none;\">\n",
              "                법위반횟수\n",
              "            </td>\n",
              "        </tr>\n",
              "    \n",
              "    \n",
              "    </tbody>\n",
              "</table>\n",
              "    \n",
              "\n",
              "    \n",
              "\n",
              "\n",
              "    \n",
              "\n",
              "    \n",
              "\n",
              "    \n",
              "\n",
              "    \n",
              "\n",
              "    \n",
              "\n",
              "    \n",
              "\n",
              "\n",
              "\n"
            ],
            "text/plain": [
              "<IPython.core.display.HTML object>"
            ]
          },
          "metadata": {},
          "execution_count": 37
        }
      ]
    },
    {
      "cell_type": "markdown",
      "metadata": {
        "id": "-i3GTiUZzAjz"
      },
      "source": [
        "- 회귀 모델에서 중요한 특성은 합계, 기준면적, 총인테리어비용 순"
      ]
    }
  ]
}