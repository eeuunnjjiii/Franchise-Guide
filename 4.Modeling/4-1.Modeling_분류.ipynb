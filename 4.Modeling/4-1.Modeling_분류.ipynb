{
  "nbformat": 4,
  "nbformat_minor": 0,
  "metadata": {
    "colab": {
      "name": "4-1.Modeling_분류",
      "provenance": [],
      "collapsed_sections": [],
      "authorship_tag": "ABX9TyO+bDjmiYNuzVGovhA+R+mu",
      "include_colab_link": true
    },
    "kernelspec": {
      "display_name": "Python 3",
      "name": "python3"
    },
    "language_info": {
      "name": "python"
    }
  },
  "cells": [
    {
      "cell_type": "markdown",
      "metadata": {
        "id": "view-in-github",
        "colab_type": "text"
      },
      "source": [
        "<a href=\"https://colab.research.google.com/github/eeuunnjjiii/Franchise-Guide/blob/main/4.Modeling/4-1.Modeling_%EB%B6%84%EB%A5%98.ipynb\" target=\"_parent\"><img src=\"https://colab.research.google.com/assets/colab-badge.svg\" alt=\"Open In Colab\"/></a>"
      ]
    },
    {
      "cell_type": "code",
      "metadata": {
        "colab": {
          "base_uri": "https://localhost:8080/"
        },
        "id": "a25rAsvILaMl",
        "outputId": "02bb1272-7903-4a11-e9a4-36263bb937c7"
      },
      "source": [
        "import pandas as pd\n",
        "import numpy as np\n",
        "\n",
        "import seaborn as sns\n",
        "import matplotlib.pyplot as plt\n",
        "import warnings\n",
        "warnings.filterwarnings(\"ignore\")\n",
        "\n",
        "# 한글 깨짐 방지\n",
        "!apt-get install fonts-nanum*\n",
        "!apt-get install fontconfig\n",
        "import matplotlib.font_manager as fm\n",
        "path = '/usr/share/fonts/truetype/nanum/NanumGothicEco.ttf'\n",
        "font_name = fm.FontProperties(fname=path, size=10).get_name()\n",
        "print(font_name)\n",
        "plt.rc('font', family=font_name)\n",
        "fm._rebuild()\n",
        "\n",
        "# 화질 선명하게 설정\n",
        "%config InlineBackend.figure_format='retina'\n",
        "\n",
        "# DataFrame 컬럼 전체보기 설정\n",
        "pd.set_option('display.max_columns', None) "
      ],
      "execution_count": 1,
      "outputs": [
        {
          "output_type": "stream",
          "name": "stdout",
          "text": [
            "Reading package lists... Done\n",
            "Building dependency tree       \n",
            "Reading state information... Done\n",
            "Note, selecting 'fonts-nanum-eco' for glob 'fonts-nanum*'\n",
            "Note, selecting 'fonts-nanum' for glob 'fonts-nanum*'\n",
            "Note, selecting 'fonts-nanum-gothic-light' for glob 'fonts-nanum*'\n",
            "Note, selecting 'fonts-nanum-coding' for glob 'fonts-nanum*'\n",
            "Note, selecting 'fonts-nanum-extra' for glob 'fonts-nanum*'\n",
            "fonts-nanum is already the newest version (20170925-1).\n",
            "fonts-nanum-coding is already the newest version (2.5-1).\n",
            "fonts-nanum-eco is already the newest version (1.000-6).\n",
            "fonts-nanum-extra is already the newest version (20170925-1).\n",
            "0 upgraded, 0 newly installed, 0 to remove and 37 not upgraded.\n",
            "Reading package lists... Done\n",
            "Building dependency tree       \n",
            "Reading state information... Done\n",
            "fontconfig is already the newest version (2.12.6-0ubuntu2).\n",
            "0 upgraded, 0 newly installed, 0 to remove and 37 not upgraded.\n",
            "NanumGothic Eco\n"
          ]
        }
      ]
    },
    {
      "cell_type": "code",
      "metadata": {
        "colab": {
          "base_uri": "https://localhost:8080/"
        },
        "id": "vH7KqqaZRR5_",
        "outputId": "d3bdd07d-0e59-4440-dffc-71ea1383a189"
      },
      "source": [
        "from google.colab import drive\n",
        "drive.mount('/content/drive')"
      ],
      "execution_count": 2,
      "outputs": [
        {
          "output_type": "stream",
          "name": "stdout",
          "text": [
            "Mounted at /content/drive\n"
          ]
        }
      ]
    },
    {
      "cell_type": "code",
      "metadata": {
        "id": "psvuA4qZRZS_"
      },
      "source": [
        "# 데이터 가져오기\n",
        "import pandas as pd\n",
        "df = pd.read_csv('/content/drive/MyDrive/franchise_data/total_eda.csv', index_col=0).reset_index(drop=True)"
      ],
      "execution_count": 99,
      "outputs": []
    },
    {
      "cell_type": "markdown",
      "metadata": {
        "id": "ik-QOiQtoutx"
      },
      "source": [
        "# 1. 모델 타겟 값 생성"
      ]
    },
    {
      "cell_type": "markdown",
      "metadata": {
        "id": "gYB_eM2eTI1M"
      },
      "source": [
        "- 모델 타겟 값 : 업종별 평균 매출액 이상 \"1\" / 평균 미만 \"0\" 으로 분류"
      ]
    },
    {
      "cell_type": "code",
      "metadata": {
        "id": "TEingFMgnhgH"
      },
      "source": [
        "# 평가 컬럼 생성\n",
        "avg = df.groupby(['업종','기준년도']).mean().reset_index()[['업종','기준년도','가맹점평균매출액']] ## 업종 & 기준년도별 가맹점 평균 매출액 \n",
        "avg.columns = ['업종','기준년도','업종_기준년도_평균매출액']\n",
        "\n",
        "df = df.merge(avg, on=['업종','기준년도']) # 업종별 평균매출액 merge\n",
        "\n",
        "df['평가'] = (df['가맹점평균매출액']>=df['업종_기준년도_평균매출액'])\n",
        "df['평가'] = df['평가'].astype(int) #0:평균보다 낮음, 1:평균보다 높음"
      ],
      "execution_count": 100,
      "outputs": []
    },
    {
      "cell_type": "markdown",
      "metadata": {
        "id": "lUoq9rgoUFhJ"
      },
      "source": [
        "#2. 기준모델"
      ]
    },
    {
      "cell_type": "code",
      "metadata": {
        "colab": {
          "base_uri": "https://localhost:8080/"
        },
        "id": "JYXrshWDUHpS",
        "outputId": "31c25229-79ab-45f3-bb93-49e2f5dcf28f"
      },
      "source": [
        "# 타겟지정\n",
        "target = '평가'\n",
        "\n",
        "#타겟 비율 확인\n",
        "df[target].value_counts(normalize=True) ## 불균형한 데이터"
      ],
      "execution_count": 101,
      "outputs": [
        {
          "output_type": "execute_result",
          "data": {
            "text/plain": [
              "0    0.61847\n",
              "1    0.38153\n",
              "Name: 평가, dtype: float64"
            ]
          },
          "metadata": {},
          "execution_count": 101
        }
      ]
    },
    {
      "cell_type": "code",
      "metadata": {
        "colab": {
          "base_uri": "https://localhost:8080/",
          "height": 293
        },
        "id": "8qY7vm0G3eTD",
        "outputId": "0d9c3033-7183-4a74-aa25-9426bef754df"
      },
      "source": [
        "ax= sns.barplot(x=df[target], y=df[target].value_counts(normalize=True), palette='Greys')\n",
        "\n",
        "for p in ax.patches:\n",
        "  ax.annotate(format(p.get_height(), '.0f'), (p.get_x() + p.get_width() / 2., p.get_height()), ha = 'center', va = 'center', xytext = (0, 5), textcoords = 'offset points')\n",
        "\n",
        "plt.title('타겟 변수 비율');"
      ],
      "execution_count": 102,
      "outputs": [
        {
          "output_type": "display_data",
          "data": {
            "image/png": "[encoded data removed]",
            "text/plain": [
              "<Figure size 432x288 with 1 Axes>"
            ]
          },
          "metadata": {
            "image/png": {
              "width": 384,
              "height": 276
            },
            "needs_background": "light"
          }
        }
      ]
    },
    {
      "cell_type": "code",
      "metadata": {
        "colab": {
          "base_uri": "https://localhost:8080/"
        },
        "id": "LlI9hcGrUQYU",
        "outputId": "76f61999-96f0-4077-a2e3-5a507222bb73"
      },
      "source": [
        "# 기준모델 생성\n",
        "major = df[target].mode()[0]\n",
        "\n",
        "# 타겟 샘플 수 만큼 0이 담긴 리스트를 만들어 기준모델로 예측\n",
        "y_pred=[major]*len(df[target])\n",
        "\n",
        "from sklearn.metrics import accuracy_score\n",
        "print('기준모델 정확도 :',accuracy_score(df[target],y_pred))"
      ],
      "execution_count": 103,
      "outputs": [
        {
          "output_type": "stream",
          "name": "stdout",
          "text": [
            "기준모델 정확도 : 0.6184700372282935\n"
          ]
        }
      ]
    },
    {
      "cell_type": "markdown",
      "metadata": {
        "id": "4DXZtdNFW4sH"
      },
      "source": [
        "#3. 데이터 분리"
      ]
    },
    {
      "cell_type": "code",
      "metadata": {
        "colab": {
          "base_uri": "https://localhost:8080/"
        },
        "id": "pO-kbspOW05y",
        "outputId": "0afb0d38-138b-48d3-aea1-ac5b0847d100"
      },
      "source": [
        "#Hold-out 방식으로 훈련, 검증, 테스트 데이터셋 분리 (타겟데이터 비율 맞추기)\n",
        "from sklearn.model_selection import train_test_split\n",
        "train,test = train_test_split(df,train_size=0.8, test_size=0.2, stratify=df[target],random_state=2)\n",
        "train,val = train_test_split(train,train_size=0.8, test_size=0.2, stratify=train[target],random_state=2)\n",
        "\n",
        "train.shape, val.shape, test.shape"
      ],
      "execution_count": 104,
      "outputs": [
        {
          "output_type": "execute_result",
          "data": {
            "text/plain": [
              "((5328, 38), (1333, 38), (1666, 38))"
            ]
          },
          "metadata": {},
          "execution_count": 104
        }
      ]
    },
    {
      "cell_type": "code",
      "metadata": {
        "id": "wjVguXM-XBZQ"
      },
      "source": [
        "#데이터 특성/타겟 분리\n",
        "\n",
        "features=train.drop(columns=[target]).columns\n",
        "\n",
        "X_train=train[features]\n",
        "y_train = train[target]\n",
        "X_val = val[features]\n",
        "y_val = val[target]\n",
        "X_test = test[features]\n",
        "y_test = test[target]"
      ],
      "execution_count": 105,
      "outputs": []
    },
    {
      "cell_type": "markdown",
      "metadata": {
        "id": "-ngaYqVzXJ5P"
      },
      "source": [
        "#4. 특성 줄이기"
      ]
    },
    {
      "cell_type": "code",
      "metadata": {
        "id": "9y4N2WeiXHsy"
      },
      "source": [
        "def remove_feature(df):\n",
        "    \n",
        "    # 정보공개서에서 쉽게 열람할 수 없는 특성 삭제\n",
        "    df = df.drop(['부채비율','자기자본비율','영업이익률','매출액순이익률','자기자본순이익률','폐점','폐업률'],axis=1)\n",
        "\n",
        "    # data leakage 특성 제거\n",
        "    df = df.drop(['가맹점평균매출액', '면적당평균매출액', '업종_기준년도_평균매출액'],axis=1)\n",
        "\n",
        "    # data cardinality 높은 특성 제거\n",
        "    df =df.drop(['브랜드','상호'], axis=1)\n",
        "    \n",
        "    # 중복되는 특성 제거\n",
        "    df = df.drop(['면적당인테리어비용','기준년도','가맹사업개시일'],axis=1)\n",
        "    \n",
        "    # 합계(가맹비+교육비+보증금+기타비용)에 해당되는 특성 제거\n",
        "    df = df.drop(['가맹비','교육비','보증금','기타비용'],axis=1)\n",
        "\n",
        "    return df\n",
        "\n",
        "X_train=remove_feature(X_train)\n",
        "X_val=remove_feature(X_val)\n",
        "X_test=remove_feature(X_test)"
      ],
      "execution_count": 106,
      "outputs": []
    },
    {
      "cell_type": "markdown",
      "metadata": {
        "id": "_W7epvavaOgf"
      },
      "source": [
        "#5. 머신러닝 적용"
      ]
    },
    {
      "cell_type": "markdown",
      "metadata": {
        "id": "0xAYJ3u4aSE8"
      },
      "source": [
        "##1) RandomForest 모델"
      ]
    },
    {
      "cell_type": "code",
      "metadata": {
        "colab": {
          "base_uri": "https://localhost:8080/"
        },
        "id": "l1YmylpmcBWL",
        "outputId": "942aeac6-f973-4387-e657-a6ff40deb628"
      },
      "source": [
        "!pip install category_encoders"
      ],
      "execution_count": 79,
      "outputs": [
        {
          "output_type": "stream",
          "name": "stdout",
          "text": [
            "Requirement already satisfied: category_encoders in /usr/local/lib/python3.7/dist-packages (2.2.2)\n",
            "Requirement already satisfied: scikit-learn>=0.20.0 in /usr/local/lib/python3.7/dist-packages (from category_encoders) (0.22.2.post1)\n",
            "Requirement already satisfied: patsy>=0.5.1 in /usr/local/lib/python3.7/dist-packages (from category_encoders) (0.5.2)\n",
            "Requirement already satisfied: scipy>=1.0.0 in /usr/local/lib/python3.7/dist-packages (from category_encoders) (1.4.1)\n",
            "Requirement already satisfied: numpy>=1.14.0 in /usr/local/lib/python3.7/dist-packages (from category_encoders) (1.19.5)\n",
            "Requirement already satisfied: statsmodels>=0.9.0 in /usr/local/lib/python3.7/dist-packages (from category_encoders) (0.10.2)\n",
            "Requirement already satisfied: pandas>=0.21.1 in /usr/local/lib/python3.7/dist-packages (from category_encoders) (1.1.5)\n",
            "Requirement already satisfied: pytz>=2017.2 in /usr/local/lib/python3.7/dist-packages (from pandas>=0.21.1->category_encoders) (2018.9)\n",
            "Requirement already satisfied: python-dateutil>=2.7.3 in /usr/local/lib/python3.7/dist-packages (from pandas>=0.21.1->category_encoders) (2.8.2)\n",
            "Requirement already satisfied: six in /usr/local/lib/python3.7/dist-packages (from patsy>=0.5.1->category_encoders) (1.15.0)\n",
            "Requirement already satisfied: joblib>=0.11 in /usr/local/lib/python3.7/dist-packages (from scikit-learn>=0.20.0->category_encoders) (1.0.1)\n"
          ]
        }
      ]
    },
    {
      "cell_type": "code",
      "metadata": {
        "colab": {
          "base_uri": "https://localhost:8080/"
        },
        "id": "Jl9uwUvJYZj8",
        "outputId": "6372a5f2-6abf-4c5b-e187-461dee07c271"
      },
      "source": [
        "from sklearn.pipeline import make_pipeline\n",
        "from category_encoders import TargetEncoder\n",
        "from sklearn.preprocessing import RobustScaler, StandardScaler, MinMaxScaler\n",
        "from sklearn.ensemble import RandomForestClassifier\n",
        "\n",
        "# Standardscaler 사용 모델\n",
        "pipe1=make_pipeline(TargetEncoder(), ## target에 맞춰 범주형 인코딩\n",
        "                   StandardScaler(), ## 변수들 간 스케일 조정(평균0, 분산1)\n",
        "                   RandomForestClassifier(n_jobs=-1,class_weight='balanced',random_state=2)) ## 가장 기본모델\n",
        "\n",
        "pipe1.fit(X_train,y_train)\n",
        "print('검증 데이터 스코어(StandardScaler):',pipe1.score(X_val,y_val))\n",
        "\n",
        "# Robustscaler 사용 모델\n",
        "pipe2=make_pipeline(TargetEncoder(), ## target에 맞춰 범주형 인코딩\n",
        "                   RobustScaler(), ## 이상치에 강함 (평균과 분산 대신 중앙값과 사분위값 사용)\n",
        "                   RandomForestClassifier(n_jobs=-1,class_weight='balanced',random_state=2)) ## 가장 기본모델\n",
        "\n",
        "pipe2.fit(X_train,y_train)\n",
        "print('검증 데이터 스코어(RobustScaler):',pipe2.score(X_val,y_val))\n",
        "\n",
        "# Minmaxscaler 사용 모델\n",
        "pipe3=make_pipeline(TargetEncoder(), ## target에 맞춰 범주형 인코딩\n",
        "                   MinMaxScaler(), ## 원데이터 분포 유지하면서 정규화\n",
        "                   RandomForestClassifier(n_jobs=-1,class_weight='balanced',random_state=2)) ## 가장 기본모델\n",
        "\n",
        "pipe3.fit(X_train,y_train)\n",
        "print('검증 데이터 스코어(MinMaxScaler):',pipe3.score(X_val,y_val))"
      ],
      "execution_count": 94,
      "outputs": [
        {
          "output_type": "stream",
          "name": "stdout",
          "text": [
            "검증 데이터 스코어(StandardScaler): 0.7786946736684172\n",
            "검증 데이터 스코어(RobustScaler): 0.7786946736684172\n",
            "검증 데이터 스코어(MinMaxScaler): 0.7711927981995499\n"
          ]
        }
      ]
    },
    {
      "cell_type": "markdown",
      "metadata": {
        "id": "YyuvbIwKcGzM"
      },
      "source": [
        "- 가장 스코어가 더 높은 RobustScaler 사용"
      ]
    },
    {
      "cell_type": "code",
      "metadata": {
        "colab": {
          "base_uri": "https://localhost:8080/"
        },
        "id": "f-5Z8EIjdJmX",
        "outputId": "575bc9be-69ec-40c8-b32f-6aac0306daae"
      },
      "source": [
        "# 다른 성능지표 확인\n",
        "from sklearn.metrics import roc_auc_score, f1_score, precision_score\n",
        "from sklearn.metrics import classification_report\n",
        "y_pred=pipe2.predict(X_val)\n",
        "y_val_pred_proba=pipe2.predict_proba(X_val)[:,1]\n",
        "print('검증 데이터 Accuracy:', round(accuracy_score(y_val,y_pred),2))\n",
        "print('검증 데이터 AUC score :', round(roc_auc_score(y_val, y_val_pred_proba),2))\n",
        "print('검증 데이터 F1 score :', round(f1_score(y_val, y_pred),2))\n",
        "print(classification_report(y_val, y_pred))"
      ],
      "execution_count": 95,
      "outputs": [
        {
          "output_type": "stream",
          "name": "stdout",
          "text": [
            "검증 데이터 Accuracy: 0.78\n",
            "검증 데이터 AUC score : 0.85\n",
            "검증 데이터 F1 score : 0.67\n",
            "              precision    recall  f1-score   support\n",
            "\n",
            "           0       0.78      0.90      0.83       824\n",
            "           1       0.78      0.59      0.67       509\n",
            "\n",
            "    accuracy                           0.78      1333\n",
            "   macro avg       0.78      0.74      0.75      1333\n",
            "weighted avg       0.78      0.78      0.77      1333\n",
            "\n"
          ]
        }
      ]
    },
    {
      "cell_type": "markdown",
      "metadata": {
        "id": "crAvBkh_dB48"
      },
      "source": [
        "##2) XGBoost 모델"
      ]
    },
    {
      "cell_type": "code",
      "metadata": {
        "colab": {
          "base_uri": "https://localhost:8080/"
        },
        "id": "pmXZkWJQYhuw",
        "outputId": "129339d8-8a32-4e2d-db54-e4f058d7bedf"
      },
      "source": [
        "#불균형 데이터이므로 ratio 추가\n",
        "ratio = y_train.value_counts(normalize=True)[1]/y_train.value_counts(normalize=True)[0]\n",
        "ratio"
      ],
      "execution_count": 96,
      "outputs": [
        {
          "output_type": "execute_result",
          "data": {
            "text/plain": [
              "0.616504854368932"
            ]
          },
          "metadata": {},
          "execution_count": 96
        }
      ]
    },
    {
      "cell_type": "code",
      "metadata": {
        "id": "VtG-UjCoeEZO"
      },
      "source": [
        "from xgboost import XGBClassifier\n",
        "\n",
        "pipe_xg=make_pipeline(TargetEncoder(),\n",
        "                      RobustScaler(),\n",
        "                      XGBClassifier(n_jobs=-1, random_state=2, scale_pos_weight=ratio))\n",
        "\n",
        "pipe_xg.fit(X_train,y_train);"
      ],
      "execution_count": 97,
      "outputs": []
    },
    {
      "cell_type": "code",
      "metadata": {
        "colab": {
          "base_uri": "https://localhost:8080/"
        },
        "id": "a9WU0jGrfNb9",
        "outputId": "6b2ee86f-c117-4fc2-ee20-4e9373cbb5a9"
      },
      "source": [
        "# 성능지표 확인\n",
        "y_pred=pipe_xg.predict(X_val)\n",
        "y_val_pred_proba=pipe_xg.predict_proba(X_val)[:,1]\n",
        "print('검증 데이터 Accuracy:', round(accuracy_score(y_val,y_pred),2))\n",
        "print('검증 데이터 AUC score :', round(roc_auc_score(y_val, y_val_pred_proba),2))\n",
        "print('검증 데이터 F1 score :', round(f1_score(y_val, y_pred),2))\n",
        "print(classification_report(y_val, y_pred))"
      ],
      "execution_count": 98,
      "outputs": [
        {
          "output_type": "stream",
          "name": "stdout",
          "text": [
            "검증 데이터 Accuracy: 0.74\n",
            "검증 데이터 AUC score : 0.82\n",
            "검증 데이터 F1 score : 0.56\n",
            "              precision    recall  f1-score   support\n",
            "\n",
            "           0       0.73      0.94      0.82       824\n",
            "           1       0.82      0.43      0.56       509\n",
            "\n",
            "    accuracy                           0.74      1333\n",
            "   macro avg       0.77      0.68      0.69      1333\n",
            "weighted avg       0.76      0.74      0.72      1333\n",
            "\n"
          ]
        }
      ]
    },
    {
      "cell_type": "markdown",
      "metadata": {
        "id": "E0vKKVAnflry"
      },
      "source": [
        "- 모든 평가지표에서 더 나은 성능을 보인 RandomForest 모델 선택"
      ]
    },
    {
      "cell_type": "markdown",
      "metadata": {
        "id": "Y6mbJzv9fc4T"
      },
      "source": [
        "##3) RandomForest 모델 하이퍼파라미터 수정"
      ]
    },
    {
      "cell_type": "markdown",
      "metadata": {
        "id": "MU00EY31jdCW"
      },
      "source": [
        "###3-1) RandomizedSearchCV"
      ]
    },
    {
      "cell_type": "code",
      "metadata": {
        "colab": {
          "base_uri": "https://localhost:8080/"
        },
        "id": "zSuqh5MWfRPh",
        "outputId": "f9a671eb-5fd9-411e-e16a-4eeb73102c36"
      },
      "source": [
        "from sklearn.model_selection import RandomizedSearchCV\n",
        "from scipy.stats import randint, uniform\n",
        "\n",
        "pipe=make_pipeline(TargetEncoder(),\n",
        "                   RobustScaler(),\n",
        "                   RandomForestClassifier(n_jobs=-1,class_weight='balanced',random_state=2)) ## 가장 기본모델\n",
        "\n",
        "# 하이퍼파라미터 범위 지정\n",
        "\n",
        "dists={\n",
        "    'targetencoder__smoothing' : [1.,10.,50.,100.,500.],\n",
        "    'targetencoder__min_samples_leaf' : randint(1,50),\n",
        "    'robustscaler__quantile_range':[(25.0,75.0),(10.0,90.0),(1.0,99.0)],\n",
        "    'randomforestclassifier__n_estimators' : randint(1,500),\n",
        "    'randomforestclassifier__max_depth': [5, 10, 15, 20, None],\n",
        "    'randomforestclassifier__max_features' : uniform(0,1)\n",
        "}\n",
        "\n",
        "# 시행\n",
        "clf = RandomizedSearchCV(\n",
        "    pipe, \n",
        "    param_distributions=dists, \n",
        "    n_iter=50, \n",
        "    cv=5, \n",
        "    scoring='f1',  \n",
        "    verbose=1,\n",
        "    n_jobs=-1,\n",
        "    random_state=2\n",
        "    )\n",
        "\n",
        "clf.fit(X_train, y_train);"
      ],
      "execution_count": 85,
      "outputs": [
        {
          "output_type": "stream",
          "name": "stdout",
          "text": [
            "Fitting 5 folds for each of 50 candidates, totalling 250 fits\n"
          ]
        },
        {
          "output_type": "stream",
          "name": "stderr",
          "text": [
            "[Parallel(n_jobs=-1)]: Using backend LokyBackend with 2 concurrent workers.\n",
            "[Parallel(n_jobs=-1)]: Done  46 tasks      | elapsed:  2.2min\n",
            "[Parallel(n_jobs=-1)]: Done 196 tasks      | elapsed: 10.6min\n",
            "[Parallel(n_jobs=-1)]: Done 250 out of 250 | elapsed: 14.3min finished\n"
          ]
        }
      ]
    },
    {
      "cell_type": "code",
      "metadata": {
        "colab": {
          "base_uri": "https://localhost:8080/"
        },
        "id": "gRewMrKpinuA",
        "outputId": "fb50c412-0b65-4f3c-9b98-145d34780519"
      },
      "source": [
        "print('최적 하이퍼파라미터: ', clf.best_params_)\n",
        "print('score: ', clf.best_score_)"
      ],
      "execution_count": 107,
      "outputs": [
        {
          "output_type": "stream",
          "name": "stdout",
          "text": [
            "최적 하이퍼파라미터:  {'randomforestclassifier__max_depth': 10, 'randomforestclassifier__max_features': 0.5356041734976563, 'randomforestclassifier__n_estimators': 327, 'robustscaler__quantile_range': (1.0, 99.0), 'targetencoder__min_samples_leaf': 7, 'targetencoder__smoothing': 100.0}\n",
            "score:  0.6990198361977372\n"
          ]
        }
      ]
    },
    {
      "cell_type": "markdown",
      "metadata": {
        "id": "81u_IbcBk-qx"
      },
      "source": [
        "###3-2) GridSearchCV"
      ]
    },
    {
      "cell_type": "code",
      "metadata": {
        "colab": {
          "base_uri": "https://localhost:8080/"
        },
        "id": "nL48eGKtlH6s",
        "outputId": "26134554-b7af-41be-e3d0-c449b7498150"
      },
      "source": [
        "from sklearn.model_selection import GridSearchCV\n",
        "\n",
        "pipe=make_pipeline(TargetEncoder(), \n",
        "                   RobustScaler(quantile_range=(1.0,99.0)), \n",
        "                   RandomForestClassifier(n_jobs=-1,class_weight='balanced',random_state=2, max_features=0.2046486340378425))\n",
        "\n",
        "# 하이퍼파라미터 범위 지정\n",
        "\n",
        "dists={\n",
        "    'targetencoder__smoothing' : [90., 100., 110.],\n",
        "    'targetencoder__min_samples_leaf' : [6, 7, 8],\n",
        "    'randomforestclassifier__n_estimators' : [213, 214, 215],\n",
        "    'randomforestclassifier__max_depth': [9, 10, 11],\n",
        "}\n",
        "\n",
        "grid = GridSearchCV(\n",
        "    pipe, \n",
        "    param_grid=dists, \n",
        "    cv=3, \n",
        "    scoring='f1',\n",
        "    verbose=1,  \n",
        "    n_jobs=-1\n",
        ")\n",
        "\n",
        "grid.fit(X_train, y_train);"
      ],
      "execution_count": 108,
      "outputs": [
        {
          "output_type": "stream",
          "name": "stdout",
          "text": [
            "Fitting 3 folds for each of 81 candidates, totalling 243 fits\n"
          ]
        },
        {
          "output_type": "stream",
          "name": "stderr",
          "text": [
            "[Parallel(n_jobs=-1)]: Using backend LokyBackend with 2 concurrent workers.\n",
            "[Parallel(n_jobs=-1)]: Done  46 tasks      | elapsed:   53.1s\n",
            "[Parallel(n_jobs=-1)]: Done 196 tasks      | elapsed:  3.9min\n",
            "[Parallel(n_jobs=-1)]: Done 243 out of 243 | elapsed:  4.9min finished\n"
          ]
        }
      ]
    },
    {
      "cell_type": "code",
      "metadata": {
        "colab": {
          "base_uri": "https://localhost:8080/"
        },
        "id": "zH-fn3an3XTx",
        "outputId": "d21d4555-af49-4326-ba5f-2049de805a81"
      },
      "source": [
        "print('최적 하이퍼파라미터: ', grid.best_params_)\n",
        "print('score: ', grid.best_score_)"
      ],
      "execution_count": 110,
      "outputs": [
        {
          "output_type": "stream",
          "name": "stdout",
          "text": [
            "최적 하이퍼파라미터:  {'randomforestclassifier__max_depth': 11, 'randomforestclassifier__n_estimators': 214, 'targetencoder__min_samples_leaf': 6, 'targetencoder__smoothing': 90.0}\n",
            "score:  0.6793181940994776\n"
          ]
        }
      ]
    },
    {
      "cell_type": "markdown",
      "metadata": {
        "id": "YmNBe8Yfontx"
      },
      "source": [
        "## 4) 최종 모델"
      ]
    },
    {
      "cell_type": "code",
      "metadata": {
        "colab": {
          "base_uri": "https://localhost:8080/"
        },
        "id": "mcFFKXUFAW0s",
        "outputId": "cb3e260c-16a1-45af-faef-3b7635dcff71"
      },
      "source": [
        "# 최적 모델 생성\n",
        "y_pred = clf.predict(X_val)\n",
        "y_val_pred_proba = clf.predict_proba(X_val)[:,1]\n",
        "\n",
        "print('검증 데이터 Accuracy:', round(accuracy_score(y_val,y_pred),2))\n",
        "print('검증 데이터 AUC score :', round(roc_auc_score(y_val, y_val_pred_proba),2))\n",
        "print('검증 데이터 F1 score :', round(f1_score(y_val, y_pred),2))"
      ],
      "execution_count": 112,
      "outputs": [
        {
          "output_type": "stream",
          "name": "stdout",
          "text": [
            "검증 데이터 Accuracy: 0.76\n",
            "검증 데이터 AUC score : 0.85\n",
            "검증 데이터 F1 score : 0.69\n"
          ]
        }
      ]
    },
    {
      "cell_type": "markdown",
      "metadata": {
        "id": "fPsmevHemO8Y"
      },
      "source": [
        "- 실제 Negative 음성인 데이터 예측을 Positive 양성으로 잘못 판단하게 되면 업무상 큰 영향이 발생하는 경우 -> 정밀도가 상대적으로 더 중요한 지표\n",
        "- 정밀도가 더 중요! 실제 가맹점 평균 매출액 이하인데, 이상이라고 판단하는게 더 큰 영향"
      ]
    },
    {
      "cell_type": "code",
      "metadata": {
        "colab": {
          "base_uri": "https://localhost:8080/"
        },
        "id": "q0GFzgfIwIYY",
        "outputId": "96127fc1-746c-4329-e230-9a8a10c5b684"
      },
      "source": [
        "# test data 확인\n",
        "y_pred = clf.predict(X_test)\n",
        "y_test_pred_proba = clf.predict_proba(X_test)[:,1]\n",
        "\n",
        "print('테스트 데이터 Accuracy:', round(accuracy_score(y_test,y_pred),2))\n",
        "print('테스트 데이터 AUC score :', round(roc_auc_score(y_test, y_test_pred_proba),2))\n",
        "print('테스트 데이터 F1 score :', round(f1_score(y_test, y_pred),2))\n",
        "print(classification_report(y_test, y_pred))"
      ],
      "execution_count": 114,
      "outputs": [
        {
          "output_type": "stream",
          "name": "stdout",
          "text": [
            "테스트 데이터 Accuracy: 0.77\n",
            "테스트 데이터 AUC score : 0.84\n",
            "테스트 데이터 F1 score : 0.71\n",
            "              precision    recall  f1-score   support\n",
            "\n",
            "           0       0.82      0.80      0.81      1030\n",
            "           1       0.69      0.72      0.71       636\n",
            "\n",
            "    accuracy                           0.77      1666\n",
            "   macro avg       0.76      0.76      0.76      1666\n",
            "weighted avg       0.77      0.77      0.77      1666\n",
            "\n"
          ]
        }
      ]
    },
    {
      "cell_type": "code",
      "metadata": {
        "colab": {
          "base_uri": "https://localhost:8080/",
          "height": 295
        },
        "id": "SDumfMA6t_XB",
        "outputId": "8ee72d5f-10c2-4766-a5d3-f9bf607a41c8"
      },
      "source": [
        "# Confusion Matrix 확인\n",
        "from sklearn.metrics import plot_confusion_matrix\n",
        "fig, ax = plt.subplots()\n",
        "pcm = plot_confusion_matrix(clf, X_test, y_test, ax=ax, cmap='Greys', values_format = '')\n",
        "plt.title(f'Confusion matrix, n = {len(y_test)}', fontsize=15)\n",
        "plt.show()"
      ],
      "execution_count": 121,
      "outputs": [
        {
          "output_type": "display_data",
          "data": {
            "image/png": "[encoded data removed]",
            "text/plain": [
              "<Figure size 432x288 with 2 Axes>"
            ]
          },
          "metadata": {
            "image/png": {
              "width": 311,
              "height": 278
            },
            "needs_background": "light"
          }
        }
      ]
    },
    {
      "cell_type": "markdown",
      "metadata": {
        "id": "YE4Cr_41pGW3"
      },
      "source": [
        "#6. 모델 해석"
      ]
    },
    {
      "cell_type": "markdown",
      "metadata": {
        "id": "a0gZbUUGtgMD"
      },
      "source": [
        "##1)  permutation importance : 특성 중요도"
      ]
    },
    {
      "cell_type": "code",
      "metadata": {
        "colab": {
          "base_uri": "https://localhost:8080/"
        },
        "id": "STWDtdkSBPuv",
        "outputId": "16fd0182-159e-4439-ff7e-8eece3dc6118"
      },
      "source": [
        "!pip install eli5"
      ],
      "execution_count": 122,
      "outputs": [
        {
          "output_type": "stream",
          "name": "stdout",
          "text": [
            "Collecting eli5\n",
            "  Downloading eli5-0.11.0-py2.py3-none-any.whl (106 kB)\n",
            "\u001b[?25l\r\u001b[K     |███                             | 10 kB 21.3 MB/s eta 0:00:01\r\u001b[K     |██████▏                         | 20 kB 26.1 MB/s eta 0:00:01\r\u001b[K     |█████████▎                      | 30 kB 12.7 MB/s eta 0:00:01\r\u001b[K     |████████████▍                   | 40 kB 9.5 MB/s eta 0:00:01\r\u001b[K     |███████████████▌                | 51 kB 5.4 MB/s eta 0:00:01\r\u001b[K     |██████████████████▌             | 61 kB 5.8 MB/s eta 0:00:01\r\u001b[K     |█████████████████████▋          | 71 kB 5.7 MB/s eta 0:00:01\r\u001b[K     |████████████████████████▊       | 81 kB 6.3 MB/s eta 0:00:01\r\u001b[K     |███████████████████████████▉    | 92 kB 4.8 MB/s eta 0:00:01\r\u001b[K     |███████████████████████████████ | 102 kB 5.2 MB/s eta 0:00:01\r\u001b[K     |████████████████████████████████| 106 kB 5.2 MB/s \n",
            "\u001b[?25hRequirement already satisfied: numpy>=1.9.0 in /usr/local/lib/python3.7/dist-packages (from eli5) (1.19.5)\n",
            "Requirement already satisfied: scipy in /usr/local/lib/python3.7/dist-packages (from eli5) (1.4.1)\n",
            "Requirement already satisfied: scikit-learn>=0.20 in /usr/local/lib/python3.7/dist-packages (from eli5) (0.22.2.post1)\n",
            "Requirement already satisfied: jinja2 in /usr/local/lib/python3.7/dist-packages (from eli5) (2.11.3)\n",
            "Requirement already satisfied: six in /usr/local/lib/python3.7/dist-packages (from eli5) (1.15.0)\n",
            "Requirement already satisfied: tabulate>=0.7.7 in /usr/local/lib/python3.7/dist-packages (from eli5) (0.8.9)\n",
            "Requirement already satisfied: graphviz in /usr/local/lib/python3.7/dist-packages (from eli5) (0.10.1)\n",
            "Requirement already satisfied: attrs>16.0.0 in /usr/local/lib/python3.7/dist-packages (from eli5) (21.2.0)\n",
            "Requirement already satisfied: joblib>=0.11 in /usr/local/lib/python3.7/dist-packages (from scikit-learn>=0.20->eli5) (1.0.1)\n",
            "Requirement already satisfied: MarkupSafe>=0.23 in /usr/local/lib/python3.7/dist-packages (from jinja2->eli5) (2.0.1)\n",
            "Installing collected packages: eli5\n",
            "Successfully installed eli5-0.11.0\n"
          ]
        }
      ]
    },
    {
      "cell_type": "code",
      "metadata": {
        "id": "zzqr86GAn0fe"
      },
      "source": [
        "import eli5\n",
        "from eli5.sklearn import PermutationImportance\n",
        "\n",
        "permuter=PermutationImportance(clf, scoring='f1',n_iter=5,random_state=2)\n",
        "\n",
        "encoder = TargetEncoder(min_samples_leaf=7, smoothing=100.0)\n",
        "X_train_encoded = encoder.fit_transform(X_train,y_train)\n",
        "X_test_encoded = encoder.transform(X_test)\n",
        "permuter.fit(X_test_encoded,y_test);"
      ],
      "execution_count": 126,
      "outputs": []
    },
    {
      "cell_type": "code",
      "metadata": {
        "colab": {
          "base_uri": "https://localhost:8080/",
          "height": 340
        },
        "id": "ybygL6I3BOso",
        "outputId": "caf2f2ce-6710-471e-a7ca-08278666264b"
      },
      "source": [
        "# 특성별 score 확인\n",
        "eli5.show_weights(\n",
        "    permuter, \n",
        "    top=None, \n",
        "    feature_names=X_test.columns.tolist()\n",
        ")"
      ],
      "execution_count": 127,
      "outputs": [
        {
          "output_type": "execute_result",
          "data": {
            "text/html": [
              "\n",
              "    <style>\n",
              "    table.eli5-weights tr:hover {\n",
              "        filter: brightness(85%);\n",
              "    }\n",
              "</style>\n",
              "\n",
              "\n",
              "\n",
              "    \n",
              "\n",
              "    \n",
              "\n",
              "    \n",
              "\n",
              "    \n",
              "\n",
              "    \n",
              "\n",
              "    \n",
              "\n",
              "\n",
              "    \n",
              "\n",
              "    \n",
              "\n",
              "    \n",
              "\n",
              "    \n",
              "\n",
              "    \n",
              "\n",
              "    \n",
              "\n",
              "\n",
              "    \n",
              "\n",
              "    \n",
              "\n",
              "    \n",
              "\n",
              "    \n",
              "\n",
              "    \n",
              "        <table class=\"eli5-weights eli5-feature-importances\" style=\"border-collapse: collapse; border: none; margin-top: 0em; table-layout: auto;\">\n",
              "    <thead>\n",
              "    <tr style=\"border: none;\">\n",
              "        <th style=\"padding: 0 1em 0 0.5em; text-align: right; border: none;\">Weight</th>\n",
              "        <th style=\"padding: 0 0.5em 0 0.5em; text-align: left; border: none;\">Feature</th>\n",
              "    </tr>\n",
              "    </thead>\n",
              "    <tbody>\n",
              "    \n",
              "        <tr style=\"background-color: hsl(120, 100.00%, 80.00%); border: none;\">\n",
              "            <td style=\"padding: 0 1em 0 0.5em; text-align: right; border: none;\">\n",
              "                0.2088\n",
              "                \n",
              "                    &plusmn; 0.0221\n",
              "                \n",
              "            </td>\n",
              "            <td style=\"padding: 0 0.5em 0 0.5em; text-align: left; border: none;\">\n",
              "                합계\n",
              "            </td>\n",
              "        </tr>\n",
              "    \n",
              "        <tr style=\"background-color: hsl(120, 100.00%, 95.90%); border: none;\">\n",
              "            <td style=\"padding: 0 1em 0 0.5em; text-align: right; border: none;\">\n",
              "                0.0217\n",
              "                \n",
              "                    &plusmn; 0.0055\n",
              "                \n",
              "            </td>\n",
              "            <td style=\"padding: 0 0.5em 0 0.5em; text-align: left; border: none;\">\n",
              "                총인테리어비용\n",
              "            </td>\n",
              "        </tr>\n",
              "    \n",
              "        <tr style=\"background-color: hsl(120, 100.00%, 96.09%); border: none;\">\n",
              "            <td style=\"padding: 0 1em 0 0.5em; text-align: right; border: none;\">\n",
              "                0.0203\n",
              "                \n",
              "                    &plusmn; 0.0080\n",
              "                \n",
              "            </td>\n",
              "            <td style=\"padding: 0 0.5em 0 0.5em; text-align: left; border: none;\">\n",
              "                가맹사업일수\n",
              "            </td>\n",
              "        </tr>\n",
              "    \n",
              "        <tr style=\"background-color: hsl(120, 100.00%, 96.31%); border: none;\">\n",
              "            <td style=\"padding: 0 1em 0 0.5em; text-align: right; border: none;\">\n",
              "                0.0187\n",
              "                \n",
              "                    &plusmn; 0.0095\n",
              "                \n",
              "            </td>\n",
              "            <td style=\"padding: 0 0.5em 0 0.5em; text-align: left; border: none;\">\n",
              "                당기순이익\n",
              "            </td>\n",
              "        </tr>\n",
              "    \n",
              "        <tr style=\"background-color: hsl(120, 100.00%, 96.57%); border: none;\">\n",
              "            <td style=\"padding: 0 1em 0 0.5em; text-align: right; border: none;\">\n",
              "                0.0169\n",
              "                \n",
              "                    &plusmn; 0.0074\n",
              "                \n",
              "            </td>\n",
              "            <td style=\"padding: 0 0.5em 0 0.5em; text-align: left; border: none;\">\n",
              "                기준면적\n",
              "            </td>\n",
              "        </tr>\n",
              "    \n",
              "        <tr style=\"background-color: hsl(120, 100.00%, 97.05%); border: none;\">\n",
              "            <td style=\"padding: 0 1em 0 0.5em; text-align: right; border: none;\">\n",
              "                0.0136\n",
              "                \n",
              "                    &plusmn; 0.0058\n",
              "                \n",
              "            </td>\n",
              "            <td style=\"padding: 0 0.5em 0 0.5em; text-align: left; border: none;\">\n",
              "                영업이익\n",
              "            </td>\n",
              "        </tr>\n",
              "    \n",
              "        <tr style=\"background-color: hsl(120, 100.00%, 97.29%); border: none;\">\n",
              "            <td style=\"padding: 0 1em 0 0.5em; text-align: right; border: none;\">\n",
              "                0.0120\n",
              "                \n",
              "                    &plusmn; 0.0136\n",
              "                \n",
              "            </td>\n",
              "            <td style=\"padding: 0 0.5em 0 0.5em; text-align: left; border: none;\">\n",
              "                매출액\n",
              "            </td>\n",
              "        </tr>\n",
              "    \n",
              "        <tr style=\"background-color: hsl(120, 100.00%, 97.97%); border: none;\">\n",
              "            <td style=\"padding: 0 1em 0 0.5em; text-align: right; border: none;\">\n",
              "                0.0080\n",
              "                \n",
              "                    &plusmn; 0.0070\n",
              "                \n",
              "            </td>\n",
              "            <td style=\"padding: 0 0.5em 0 0.5em; text-align: left; border: none;\">\n",
              "                가맹본부임직원수\n",
              "            </td>\n",
              "        </tr>\n",
              "    \n",
              "        <tr style=\"background-color: hsl(120, 100.00%, 98.02%); border: none;\">\n",
              "            <td style=\"padding: 0 1em 0 0.5em; text-align: right; border: none;\">\n",
              "                0.0077\n",
              "                \n",
              "                    &plusmn; 0.0072\n",
              "                \n",
              "            </td>\n",
              "            <td style=\"padding: 0 0.5em 0 0.5em; text-align: left; border: none;\">\n",
              "                계약종료\n",
              "            </td>\n",
              "        </tr>\n",
              "    \n",
              "        <tr style=\"background-color: hsl(120, 100.00%, 98.44%); border: none;\">\n",
              "            <td style=\"padding: 0 1em 0 0.5em; text-align: right; border: none;\">\n",
              "                0.0055\n",
              "                \n",
              "                    &plusmn; 0.0092\n",
              "                \n",
              "            </td>\n",
              "            <td style=\"padding: 0 0.5em 0 0.5em; text-align: left; border: none;\">\n",
              "                부채\n",
              "            </td>\n",
              "        </tr>\n",
              "    \n",
              "        <tr style=\"background-color: hsl(120, 100.00%, 98.55%); border: none;\">\n",
              "            <td style=\"padding: 0 1em 0 0.5em; text-align: right; border: none;\">\n",
              "                0.0049\n",
              "                \n",
              "                    &plusmn; 0.0145\n",
              "                \n",
              "            </td>\n",
              "            <td style=\"padding: 0 0.5em 0 0.5em; text-align: left; border: none;\">\n",
              "                계약해지\n",
              "            </td>\n",
              "        </tr>\n",
              "    \n",
              "        <tr style=\"background-color: hsl(120, 100.00%, 98.66%); border: none;\">\n",
              "            <td style=\"padding: 0 1em 0 0.5em; text-align: right; border: none;\">\n",
              "                0.0044\n",
              "                \n",
              "                    &plusmn; 0.0060\n",
              "                \n",
              "            </td>\n",
              "            <td style=\"padding: 0 0.5em 0 0.5em; text-align: left; border: none;\">\n",
              "                신규개점\n",
              "            </td>\n",
              "        </tr>\n",
              "    \n",
              "        <tr style=\"background-color: hsl(120, 100.00%, 98.79%); border: none;\">\n",
              "            <td style=\"padding: 0 1em 0 0.5em; text-align: right; border: none;\">\n",
              "                0.0038\n",
              "                \n",
              "                    &plusmn; 0.0044\n",
              "                \n",
              "            </td>\n",
              "            <td style=\"padding: 0 0.5em 0 0.5em; text-align: left; border: none;\">\n",
              "                명의변경\n",
              "            </td>\n",
              "        </tr>\n",
              "    \n",
              "        <tr style=\"background-color: hsl(120, 100.00%, 99.37%); border: none;\">\n",
              "            <td style=\"padding: 0 1em 0 0.5em; text-align: right; border: none;\">\n",
              "                0.0015\n",
              "                \n",
              "                    &plusmn; 0.0080\n",
              "                \n",
              "            </td>\n",
              "            <td style=\"padding: 0 0.5em 0 0.5em; text-align: left; border: none;\">\n",
              "                가맹점수\n",
              "            </td>\n",
              "        </tr>\n",
              "    \n",
              "        <tr style=\"background-color: hsl(120, 100.00%, 99.44%); border: none;\">\n",
              "            <td style=\"padding: 0 1em 0 0.5em; text-align: right; border: none;\">\n",
              "                0.0013\n",
              "                \n",
              "                    &plusmn; 0.0055\n",
              "                \n",
              "            </td>\n",
              "            <td style=\"padding: 0 0.5em 0 0.5em; text-align: left; border: none;\">\n",
              "                자산\n",
              "            </td>\n",
              "        </tr>\n",
              "    \n",
              "        <tr style=\"background-color: hsl(120, 100.00%, 99.63%); border: none;\">\n",
              "            <td style=\"padding: 0 1em 0 0.5em; text-align: right; border: none;\">\n",
              "                0.0007\n",
              "                \n",
              "                    &plusmn; 0.0022\n",
              "                \n",
              "            </td>\n",
              "            <td style=\"padding: 0 0.5em 0 0.5em; text-align: left; border: none;\">\n",
              "                법위반횟수\n",
              "            </td>\n",
              "        </tr>\n",
              "    \n",
              "        <tr style=\"background-color: hsl(0, 100.00%, 100.00%); border: none;\">\n",
              "            <td style=\"padding: 0 1em 0 0.5em; text-align: right; border: none;\">\n",
              "                0\n",
              "                \n",
              "                    &plusmn; 0.0000\n",
              "                \n",
              "            </td>\n",
              "            <td style=\"padding: 0 0.5em 0 0.5em; text-align: left; border: none;\">\n",
              "                업종\n",
              "            </td>\n",
              "        </tr>\n",
              "    \n",
              "        <tr style=\"background-color: hsl(0, 100.00%, 99.19%); border: none;\">\n",
              "            <td style=\"padding: 0 1em 0 0.5em; text-align: right; border: none;\">\n",
              "                -0.0021\n",
              "                \n",
              "                    &plusmn; 0.0076\n",
              "                \n",
              "            </td>\n",
              "            <td style=\"padding: 0 0.5em 0 0.5em; text-align: left; border: none;\">\n",
              "                자본\n",
              "            </td>\n",
              "        </tr>\n",
              "    \n",
              "    \n",
              "    </tbody>\n",
              "</table>\n",
              "    \n",
              "\n",
              "    \n",
              "\n",
              "\n",
              "    \n",
              "\n",
              "    \n",
              "\n",
              "    \n",
              "\n",
              "    \n",
              "\n",
              "    \n",
              "\n",
              "    \n",
              "\n",
              "\n",
              "\n"
            ],
            "text/plain": [
              "<IPython.core.display.HTML object>"
            ]
          },
          "metadata": {},
          "execution_count": 127
        }
      ]
    },
    {
      "cell_type": "markdown",
      "metadata": {
        "id": "lr10Z8-lDQRP"
      },
      "source": [
        "- 분류 모델에서 가장 중요한 특성은 합계, 총인테리어비용, 가맹사업일수 순"
      ]
    }
  ]
}